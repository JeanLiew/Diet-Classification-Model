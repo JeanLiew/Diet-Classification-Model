{
 "cells": [
  {
   "cell_type": "markdown",
   "metadata": {},
   "source": [
    "# Diet Classification - Part 3"
   ]
  },
  {
   "cell_type": "markdown",
   "metadata": {},
   "source": [
    "Part 3 consist of the preprocessing and modelling of the combined datasets. Data extraction and EDA will be available in Part 1 and Part 2 respectively."
   ]
  },
  {
   "cell_type": "markdown",
   "metadata": {},
   "source": [
    "## Content"
   ]
  },
  {
   "cell_type": "code",
   "execution_count": null,
   "metadata": {},
   "outputs": [],
   "source": []
  },
  {
   "cell_type": "code",
   "execution_count": null,
   "metadata": {},
   "outputs": [],
   "source": []
  },
  {
   "cell_type": "markdown",
   "metadata": {},
   "source": [
    "## Data Import"
   ]
  },
  {
   "cell_type": "code",
   "execution_count": 366,
   "metadata": {},
   "outputs": [],
   "source": [
    "#import vanilla python\n",
    "import numpy as np\n",
    "import pandas as pd\n",
    "import seaborn as sns\n",
    "import matplotlib.pyplot as plt\n",
    "\n",
    "#import preprocessing library\n",
    "from sklearn.model_selection import train_test_split, GridSearchCV, cross_val_score\n",
    "from sklearn.pipeline import Pipeline\n",
    "from sklearn.naive_bayes import MultinomialNB\n",
    "from sklearn.linear_model import LogisticRegression\n",
    "from sklearn.metrics import confusion_matrix, plot_confusion_matrix, plot_roc_curve\n",
    "from sklearn.feature_extraction.text import CountVectorizer, TfidfVectorizer\n"
   ]
  },
  {
   "cell_type": "code",
   "execution_count": 79,
   "metadata": {},
   "outputs": [],
   "source": [
    "#Import combine datasets\n",
    "combined = pd.read_csv('../data/combined_df')\n",
    "#set max row preview\n",
    "pd.set_option('display.max_column', 1000)"
   ]
  },
  {
   "cell_type": "code",
   "execution_count": 80,
   "metadata": {
    "scrolled": true
   },
   "outputs": [
    {
     "data": {
      "text/html": [
       "<div>\n",
       "<style scoped>\n",
       "    .dataframe tbody tr th:only-of-type {\n",
       "        vertical-align: middle;\n",
       "    }\n",
       "\n",
       "    .dataframe tbody tr th {\n",
       "        vertical-align: top;\n",
       "    }\n",
       "\n",
       "    .dataframe thead th {\n",
       "        text-align: right;\n",
       "    }\n",
       "</style>\n",
       "<table border=\"1\" class=\"dataframe\">\n",
       "  <thead>\n",
       "    <tr style=\"text-align: right;\">\n",
       "      <th></th>\n",
       "      <th>author</th>\n",
       "      <th>link_flair_text</th>\n",
       "      <th>num_comments</th>\n",
       "      <th>subreddit_subscribers</th>\n",
       "      <th>subreddit</th>\n",
       "      <th>text</th>\n",
       "      <th>post_datetime</th>\n",
       "      <th>date</th>\n",
       "      <th>hour</th>\n",
       "      <th>day</th>\n",
       "      <th>text_word_count</th>\n",
       "    </tr>\n",
       "  </thead>\n",
       "  <tbody>\n",
       "    <tr>\n",
       "      <th>0</th>\n",
       "      <td>Elise_93</td>\n",
       "      <td>Funny</td>\n",
       "      <td>0</td>\n",
       "      <td>590954</td>\n",
       "      <td>vegan</td>\n",
       "      <td>A summary of carnist logic about PETA:</td>\n",
       "      <td>2021-04-18 02:03:10</td>\n",
       "      <td>2021-04-18</td>\n",
       "      <td>2</td>\n",
       "      <td>18</td>\n",
       "      <td>7</td>\n",
       "    </tr>\n",
       "    <tr>\n",
       "      <th>1</th>\n",
       "      <td>SeviathanVonEldritch</td>\n",
       "      <td>Rant</td>\n",
       "      <td>0</td>\n",
       "      <td>590952</td>\n",
       "      <td>vegan</td>\n",
       "      <td>Underestimated it as well...</td>\n",
       "      <td>2021-04-18 01:57:56</td>\n",
       "      <td>2021-04-18</td>\n",
       "      <td>1</td>\n",
       "      <td>18</td>\n",
       "      <td>4</td>\n",
       "    </tr>\n",
       "    <tr>\n",
       "      <th>2</th>\n",
       "      <td>quidiuris</td>\n",
       "      <td>Uncategorised</td>\n",
       "      <td>0</td>\n",
       "      <td>590952</td>\n",
       "      <td>vegan</td>\n",
       "      <td>Hair conditioner bars - any recommendations?</td>\n",
       "      <td>2021-04-18 01:55:05</td>\n",
       "      <td>2021-04-18</td>\n",
       "      <td>1</td>\n",
       "      <td>18</td>\n",
       "      <td>6</td>\n",
       "    </tr>\n",
       "    <tr>\n",
       "      <th>3</th>\n",
       "      <td>lunanabiki</td>\n",
       "      <td>Uncategorised</td>\n",
       "      <td>0</td>\n",
       "      <td>590953</td>\n",
       "      <td>vegan</td>\n",
       "      <td>nonvegan logic that surprises me (that i haven...</td>\n",
       "      <td>2021-04-18 01:51:11</td>\n",
       "      <td>2021-04-18</td>\n",
       "      <td>1</td>\n",
       "      <td>18</td>\n",
       "      <td>12</td>\n",
       "    </tr>\n",
       "    <tr>\n",
       "      <th>4</th>\n",
       "      <td>pastelprincess1</td>\n",
       "      <td>Uncategorised</td>\n",
       "      <td>0</td>\n",
       "      <td>590953</td>\n",
       "      <td>vegan</td>\n",
       "      <td>Sustainable + Ethical Alternatives Directory</td>\n",
       "      <td>2021-04-18 01:50:06</td>\n",
       "      <td>2021-04-18</td>\n",
       "      <td>1</td>\n",
       "      <td>18</td>\n",
       "      <td>5</td>\n",
       "    </tr>\n",
       "  </tbody>\n",
       "</table>\n",
       "</div>"
      ],
      "text/plain": [
       "                 author link_flair_text  num_comments  subreddit_subscribers  \\\n",
       "0              Elise_93           Funny             0                 590954   \n",
       "1  SeviathanVonEldritch            Rant             0                 590952   \n",
       "2             quidiuris   Uncategorised             0                 590952   \n",
       "3            lunanabiki   Uncategorised             0                 590953   \n",
       "4       pastelprincess1   Uncategorised             0                 590953   \n",
       "\n",
       "  subreddit                                               text  \\\n",
       "0     vegan             A summary of carnist logic about PETA:   \n",
       "1     vegan                       Underestimated it as well...   \n",
       "2     vegan       Hair conditioner bars - any recommendations?   \n",
       "3     vegan  nonvegan logic that surprises me (that i haven...   \n",
       "4     vegan       Sustainable + Ethical Alternatives Directory   \n",
       "\n",
       "         post_datetime        date  hour  day  text_word_count  \n",
       "0  2021-04-18 02:03:10  2021-04-18     2   18                7  \n",
       "1  2021-04-18 01:57:56  2021-04-18     1   18                4  \n",
       "2  2021-04-18 01:55:05  2021-04-18     1   18                6  \n",
       "3  2021-04-18 01:51:11  2021-04-18     1   18               12  \n",
       "4  2021-04-18 01:50:06  2021-04-18     1   18                5  "
      ]
     },
     "execution_count": 80,
     "metadata": {},
     "output_type": "execute_result"
    }
   ],
   "source": [
    "combined.head()"
   ]
  },
  {
   "cell_type": "code",
   "execution_count": 81,
   "metadata": {},
   "outputs": [
    {
     "data": {
      "text/plain": [
       "author                   0\n",
       "link_flair_text          0\n",
       "num_comments             0\n",
       "subreddit_subscribers    0\n",
       "subreddit                0\n",
       "text                     0\n",
       "post_datetime            0\n",
       "date                     0\n",
       "hour                     0\n",
       "day                      0\n",
       "text_word_count          0\n",
       "dtype: int64"
      ]
     },
     "execution_count": 81,
     "metadata": {},
     "output_type": "execute_result"
    }
   ],
   "source": [
    "#checking to ensure no null value\n",
    "combined.isna().sum()"
   ]
  },
  {
   "cell_type": "markdown",
   "metadata": {},
   "source": [
    "## Preprocessing and Modelling"
   ]
  },
  {
   "cell_type": "markdown",
   "metadata": {},
   "source": [
    "In the preprocessing, we will start with dissecting the text table to remove special characters, like emojis, and digits which will not be critical to the this context. The words will also be filtered on the stop words before modelling."
   ]
  },
  {
   "cell_type": "markdown",
   "metadata": {},
   "source": [
    "### Removing special characters and text processing"
   ]
  },
  {
   "cell_type": "code",
   "execution_count": 82,
   "metadata": {},
   "outputs": [],
   "source": [
    "#import tokenization library\n",
    "\n",
    "from nltk.tokenize import RegexpTokenizer\n",
    "from nltk.stem import WordNetLemmatizer\n",
    "from nltk.corpus import stopwords\n",
    "from nltk.stem.porter import PorterStemmer\n",
    "\n",
    "import re"
   ]
  },
  {
   "cell_type": "code",
   "execution_count": 321,
   "metadata": {},
   "outputs": [],
   "source": [
    "#define tokenizer\n",
    "def clean_text(words):\n",
    "    \"\"\"input for words/text in string to remove special characters\"\"\"\n",
    "    #lowercase words\n",
    "    words = words.lower()\n",
    "    \n",
    "    #remove other words/digit/special character\n",
    "    tokenizer = RegexpTokenizer(r'[a-z]+')\n",
    "    words = tokenizer.tokenize(words)\n",
    "    \n",
    "    #stem/lemmatize\n",
    "    lemmatizer = WordNetLemmatizer()\n",
    "    words = [lemmatizer.lemmatize(word) for word in words]\n",
    "    \n",
    "    stemmer = PorterStemmer()\n",
    "    words = [stemmer.stem(word) for word in words]\n",
    "    \n",
    "    #remove stopwords\n",
    "    words = [word for word in words if word not in stopwords.words('english')]\n",
    "    \n",
    "    return ' '.join(words)"
   ]
  },
  {
   "cell_type": "code",
   "execution_count": null,
   "metadata": {},
   "outputs": [],
   "source": [
    "cleaned_text  = combined['text'].apply(clean_text)\n",
    "#add col for cleaned text\n",
    "combined['cleaned_text'] = cleaned_text\n",
    "combined.head()"
   ]
  },
  {
   "cell_type": "code",
   "execution_count": 87,
   "metadata": {},
   "outputs": [],
   "source": [
    "combined.to_csv('../data/model_data.csv',index=False)"
   ]
  },
  {
   "cell_type": "markdown",
   "metadata": {},
   "source": [
    "### Model Definition "
   ]
  },
  {
   "cell_type": "markdown",
   "metadata": {},
   "source": [
    "Naives Bayes and Logistic Regression model will be employed for this classification model. These results will be processed through CountVectoriser and TfidfVectoriser to observed the best model pairing of prediction. "
   ]
  },
  {
   "cell_type": "markdown",
   "metadata": {},
   "source": [
    "### Baseline Model"
   ]
  },
  {
   "cell_type": "code",
   "execution_count": 325,
   "metadata": {},
   "outputs": [],
   "source": [
    "#define X and y \n",
    "\n",
    "X = combined['cleaned_text']\n",
    "y = combined['subreddit']"
   ]
  },
  {
   "cell_type": "code",
   "execution_count": 326,
   "metadata": {},
   "outputs": [
    {
     "data": {
      "text/plain": [
       "keto     0.507541\n",
       "vegan    0.492459\n",
       "Name: subreddit, dtype: float64"
      ]
     },
     "execution_count": 326,
     "metadata": {},
     "output_type": "execute_result"
    }
   ],
   "source": [
    "#check proportion of both reddits\n",
    "y.value_counts(normalize = True)"
   ]
  },
  {
   "cell_type": "code",
   "execution_count": 327,
   "metadata": {},
   "outputs": [
    {
     "name": "stdout",
     "output_type": "stream",
     "text": [
      "Baseline Accuracy: 0.508\n"
     ]
    }
   ],
   "source": [
    "print(f'Baseline Accuracy: {round(y.value_counts(normalize = True),3).values.max()}')"
   ]
  },
  {
   "cell_type": "code",
   "execution_count": 328,
   "metadata": {},
   "outputs": [],
   "source": [
    "#Train Test Split \n",
    "X_train, X_test, y_train, y_test = train_test_split(X, y, \n",
    "                                                    stratify = y, \n",
    "                                                    test_size= 0.33, \n",
    "                                                    random_state=42)"
   ]
  },
  {
   "cell_type": "markdown",
   "metadata": {},
   "source": [
    "### Logistic Regression"
   ]
  },
  {
   "cell_type": "markdown",
   "metadata": {},
   "source": [
    "#### Count Vectorization"
   ]
  },
  {
   "cell_type": "code",
   "execution_count": 329,
   "metadata": {},
   "outputs": [
    {
     "name": "stdout",
     "output_type": "stream",
     "text": [
      "Training Accuracy:  0.9706721623335447\n",
      "Testing Accuracy:  0.929835854522047\n",
      "\n",
      "\n"
     ]
    },
    {
     "data": {
      "text/plain": [
       "{'cvec__max_df': 0.8,\n",
       " 'cvec__max_features': 8000,\n",
       " 'cvec__min_df': 2,\n",
       " 'cvec__ngram_range': (1, 2),\n",
       " 'lr__C': 1,\n",
       " 'lr__penalty': 'l2'}"
      ]
     },
     "execution_count": 329,
     "metadata": {},
     "output_type": "execute_result"
    }
   ],
   "source": [
    "pipe = Pipeline([\n",
    "    ('cvec', CountVectorizer()),\n",
    "    ('lr', LogisticRegression(solver='liblinear', max_iter=200, random_state=42))\n",
    "])\n",
    "\n",
    "pipe_params = {\n",
    "    'cvec__max_features': [8000, 8500],\n",
    "    'cvec__max_df': [0.8, 0.85],\n",
    "    'cvec__min_df': [2, 3],\n",
    "    'cvec__ngram_range': [(1,1), (1,2)],\n",
    "    'lr__penalty': ['l1', 'l2'],\n",
    "    'lr__C': [1, 0.1]\n",
    "}\n",
    "\n",
    "gs = GridSearchCV(pipe, pipe_params, cv=5, n_jobs=-1)\n",
    "gs.fit(X_train, y_train)\n",
    "best_lr_cvec = gs.best_estimator_\n",
    "print('Training Accuracy: ', best_lr_cvec.score(X_train, y_train))\n",
    "print('Testing Accuracy: ', best_lr_cvec.score(X_test, y_test))\n",
    "print('\\n')\n",
    "gs.best_params_"
   ]
  },
  {
   "cell_type": "markdown",
   "metadata": {},
   "source": [
    "#### Tfidf Vectorization"
   ]
  },
  {
   "cell_type": "code",
   "execution_count": 330,
   "metadata": {},
   "outputs": [
    {
     "name": "stdout",
     "output_type": "stream",
     "text": [
      "Training Accuracy:  0.9580691185795814\n",
      "Testing Accuracy:  0.9356292243321532\n",
      "\n",
      "\n"
     ]
    },
    {
     "data": {
      "text/plain": [
       "{'lr__C': 1,\n",
       " 'lr__penalty': 'l2',\n",
       " 'tvec__max_df': 0.7,\n",
       " 'tvec__max_features': 8500,\n",
       " 'tvec__min_df': 3,\n",
       " 'tvec__ngram_range': (1, 1)}"
      ]
     },
     "execution_count": 330,
     "metadata": {},
     "output_type": "execute_result"
    }
   ],
   "source": [
    "pipe = Pipeline([\n",
    "    ('tvec', TfidfVectorizer()),\n",
    "    ('lr', LogisticRegression(solver='liblinear', max_iter=200, random_state=42))\n",
    "])\n",
    "\n",
    "pipe_params = {\n",
    "    'tvec__max_features': [8500, 9000],\n",
    "    'tvec__max_df': [0.7, 0.8],\n",
    "    'tvec__min_df': [2, 3],\n",
    "    'tvec__ngram_range': [(1,1), (1,2)],\n",
    "    'lr__penalty': ['l1', 'l2'],\n",
    "    'lr__C': [1, 0.1]\n",
    "}\n",
    "\n",
    "gs = GridSearchCV(pipe, pipe_params, cv=5, n_jobs=-1)\n",
    "gs.fit(X_train, y_train)\n",
    "best_lr_tvec = gs.best_estimator_\n",
    "print('Training Accuracy: ', best_lr_tvec.score(X_train, y_train))\n",
    "print('Testing Accuracy: ', best_lr_tvec.score(X_test, y_test))\n",
    "print('\\n')\n",
    "gs.best_params_"
   ]
  },
  {
   "cell_type": "markdown",
   "metadata": {},
   "source": [
    "### Naive Bayes"
   ]
  },
  {
   "cell_type": "markdown",
   "metadata": {},
   "source": [
    "#### Count Vectorization"
   ]
  },
  {
   "cell_type": "code",
   "execution_count": 331,
   "metadata": {},
   "outputs": [
    {
     "name": "stdout",
     "output_type": "stream",
     "text": [
      "Training Accuracy:  0.9300887761572606\n",
      "Testing Accuracy:  0.9124557450917283\n",
      "\n",
      "\n"
     ]
    },
    {
     "data": {
      "text/plain": [
       "{'cvec__max_df': 0.4,\n",
       " 'cvec__max_features': 9000,\n",
       " 'cvec__min_df': 2,\n",
       " 'cvec__ngram_range': (1, 2),\n",
       " 'nb__alpha': 0.1020408163265306}"
      ]
     },
     "execution_count": 331,
     "metadata": {},
     "output_type": "execute_result"
    }
   ],
   "source": [
    "pipe = Pipeline([\n",
    "    ('cvec', CountVectorizer()),\n",
    "    ('nb', MultinomialNB())\n",
    "])\n",
    "\n",
    "pipe_params = {\n",
    "    'cvec__max_features': [8000, 9000],\n",
    "    'cvec__max_df': [0.3, 0.4],\n",
    "    'cvec__min_df': [2, 3],\n",
    "    'cvec__ngram_range': [(1,1), (1,2)],\n",
    "    'nb__alpha': np.linspace(0, 1)\n",
    "}\n",
    "\n",
    "gs = GridSearchCV(pipe, pipe_params, cv=5, n_jobs=-1)\n",
    "gs.fit(X_train, y_train)\n",
    "best_nb_cvec = gs.best_estimator_\n",
    "print('Training Accuracy: ', best_nb_cvec.score(X_train, y_train))\n",
    "print('Testing Accuracy: ', best_nb_cvec.score(X_test, y_test))\n",
    "print('\\n')\n",
    "gs.best_params_"
   ]
  },
  {
   "cell_type": "markdown",
   "metadata": {},
   "source": [
    "#### Tfidf Vectorization"
   ]
  },
  {
   "cell_type": "code",
   "execution_count": 334,
   "metadata": {},
   "outputs": [
    {
     "name": "stdout",
     "output_type": "stream",
     "text": [
      "Training Accuracy:  0.937856689917565\n",
      "Testing Accuracy:  0.9110074026392018\n",
      "\n",
      "\n"
     ]
    },
    {
     "data": {
      "text/plain": [
       "{'nb__alpha': 0.02040816326530612,\n",
       " 'tvec__max_df': 0.4,\n",
       " 'tvec__max_features': 8500,\n",
       " 'tvec__min_df': 2,\n",
       " 'tvec__ngram_range': (1, 2)}"
      ]
     },
     "execution_count": 334,
     "metadata": {},
     "output_type": "execute_result"
    }
   ],
   "source": [
    "pipe = Pipeline([\n",
    "    ('tvec', TfidfVectorizer()),\n",
    "    ('nb', MultinomialNB())\n",
    "])\n",
    "\n",
    "pipe_params = {\n",
    "    'tvec__max_features': [8000, 8500],\n",
    "    'tvec__max_df': [0.4, 0.5],\n",
    "    'tvec__min_df': [2, 3],\n",
    "    'tvec__ngram_range': [(1,1), (1,2)],\n",
    "    'nb__alpha': np.linspace(0, 1)\n",
    "}\n",
    "\n",
    "gs = GridSearchCV(pipe, pipe_params, cv=5, n_jobs=-1)\n",
    "gs.fit(X_train, y_train)\n",
    "best_nb_tvec = gs.best_estimator_\n",
    "print('Training Accuracy: ', best_nb_tvec.score(X_train, y_train))\n",
    "print('Testing Accuracy: ', best_nb_tvec.score(X_test, y_test))\n",
    "print('\\n')\n",
    "gs.best_params_"
   ]
  },
  {
   "cell_type": "code",
   "execution_count": 339,
   "metadata": {},
   "outputs": [
    {
     "data": {
      "text/html": [
       "<div>\n",
       "<style scoped>\n",
       "    .dataframe tbody tr th:only-of-type {\n",
       "        vertical-align: middle;\n",
       "    }\n",
       "\n",
       "    .dataframe tbody tr th {\n",
       "        vertical-align: top;\n",
       "    }\n",
       "\n",
       "    .dataframe thead th {\n",
       "        text-align: right;\n",
       "    }\n",
       "</style>\n",
       "<table border=\"1\" class=\"dataframe\">\n",
       "  <thead>\n",
       "    <tr style=\"text-align: right;\">\n",
       "      <th></th>\n",
       "      <th>Model</th>\n",
       "      <th>Vectorizer</th>\n",
       "      <th>Training Accuracy</th>\n",
       "      <th>Test Accuracy</th>\n",
       "    </tr>\n",
       "  </thead>\n",
       "  <tbody>\n",
       "    <tr>\n",
       "      <th>0</th>\n",
       "      <td>Logistic Regression</td>\n",
       "      <td>CountVectorizer</td>\n",
       "      <td>0.970672</td>\n",
       "      <td>0.929836</td>\n",
       "    </tr>\n",
       "    <tr>\n",
       "      <th>1</th>\n",
       "      <td>Logistic Regression</td>\n",
       "      <td>TfidfVectorizer</td>\n",
       "      <td>0.958069</td>\n",
       "      <td>0.935629</td>\n",
       "    </tr>\n",
       "    <tr>\n",
       "      <th>2</th>\n",
       "      <td>Naives Bayes</td>\n",
       "      <td>CountVectorizer</td>\n",
       "      <td>0.930089</td>\n",
       "      <td>0.912456</td>\n",
       "    </tr>\n",
       "    <tr>\n",
       "      <th>3</th>\n",
       "      <td>Naives Bayes</td>\n",
       "      <td>TfidfVectorizer</td>\n",
       "      <td>0.937857</td>\n",
       "      <td>0.911007</td>\n",
       "    </tr>\n",
       "  </tbody>\n",
       "</table>\n",
       "</div>"
      ],
      "text/plain": [
       "                 Model       Vectorizer  Training Accuracy  Test Accuracy\n",
       "0  Logistic Regression  CountVectorizer           0.970672       0.929836\n",
       "1  Logistic Regression  TfidfVectorizer           0.958069       0.935629\n",
       "2         Naives Bayes  CountVectorizer           0.930089       0.912456\n",
       "3         Naives Bayes  TfidfVectorizer           0.937857       0.911007"
      ]
     },
     "execution_count": 339,
     "metadata": {},
     "output_type": "execute_result"
    }
   ],
   "source": [
    "#display result in dataframe\n",
    "model_df = pd.DataFrame({\n",
    "    'Model' :['Logistic Regression','Logistic Regression','Naives Bayes','Naives Bayes'],\n",
    "    'Vectorizer' :['CountVectorizer','TfidfVectorizer','CountVectorizer','TfidfVectorizer'],\n",
    "    'Training Accuracy' : [best_lr_cvec.score(X_train, y_train), best_lr_tvec.score(X_train, y_train), \n",
    "                           best_nb_cvec.score(X_train, y_train), best_nb_tvec.score(X_train, y_train)],\n",
    "    'Test Accuracy' : [best_lr_cvec.score(X_test, y_test), best_lr_tvec.score(X_test, y_test), \n",
    "                       best_nb_cvec.score(X_test, y_test), best_nb_tvec.score(X_test, y_test)]\n",
    "})\n",
    "\n",
    "model_df"
   ]
  },
  {
   "cell_type": "code",
   "execution_count": null,
   "metadata": {},
   "outputs": [],
   "source": []
  },
  {
   "cell_type": "markdown",
   "metadata": {},
   "source": [
    "### Model Selection"
   ]
  },
  {
   "cell_type": "code",
   "execution_count": 344,
   "metadata": {},
   "outputs": [],
   "source": [
    "# prediction to actual\n",
    "final_model = best_lr_tvec\n",
    "final_model.fit(X_train,y_train)\n",
    "preds = final_model.predict(X_test)"
   ]
  },
  {
   "cell_type": "code",
   "execution_count": 353,
   "metadata": {},
   "outputs": [
    {
     "data": {
      "text/html": [
       "<div>\n",
       "<style scoped>\n",
       "    .dataframe tbody tr th:only-of-type {\n",
       "        vertical-align: middle;\n",
       "    }\n",
       "\n",
       "    .dataframe tbody tr th {\n",
       "        vertical-align: top;\n",
       "    }\n",
       "\n",
       "    .dataframe thead th {\n",
       "        text-align: right;\n",
       "    }\n",
       "</style>\n",
       "<table border=\"1\" class=\"dataframe\">\n",
       "  <thead>\n",
       "    <tr style=\"text-align: right;\">\n",
       "      <th></th>\n",
       "      <th>true_values</th>\n",
       "      <th>pred_probs</th>\n",
       "    </tr>\n",
       "  </thead>\n",
       "  <tbody>\n",
       "    <tr>\n",
       "      <th>10516</th>\n",
       "      <td>keto</td>\n",
       "      <td>keto</td>\n",
       "    </tr>\n",
       "    <tr>\n",
       "      <th>12713</th>\n",
       "      <td>keto</td>\n",
       "      <td>vegan</td>\n",
       "    </tr>\n",
       "    <tr>\n",
       "      <th>16721</th>\n",
       "      <td>keto</td>\n",
       "      <td>keto</td>\n",
       "    </tr>\n",
       "    <tr>\n",
       "      <th>11551</th>\n",
       "      <td>keto</td>\n",
       "      <td>keto</td>\n",
       "    </tr>\n",
       "    <tr>\n",
       "      <th>10529</th>\n",
       "      <td>keto</td>\n",
       "      <td>keto</td>\n",
       "    </tr>\n",
       "    <tr>\n",
       "      <th>6083</th>\n",
       "      <td>vegan</td>\n",
       "      <td>vegan</td>\n",
       "    </tr>\n",
       "    <tr>\n",
       "      <th>8433</th>\n",
       "      <td>vegan</td>\n",
       "      <td>vegan</td>\n",
       "    </tr>\n",
       "    <tr>\n",
       "      <th>8933</th>\n",
       "      <td>vegan</td>\n",
       "      <td>vegan</td>\n",
       "    </tr>\n",
       "    <tr>\n",
       "      <th>13754</th>\n",
       "      <td>keto</td>\n",
       "      <td>keto</td>\n",
       "    </tr>\n",
       "    <tr>\n",
       "      <th>14253</th>\n",
       "      <td>keto</td>\n",
       "      <td>keto</td>\n",
       "    </tr>\n",
       "  </tbody>\n",
       "</table>\n",
       "</div>"
      ],
      "text/plain": [
       "      true_values pred_probs\n",
       "10516        keto       keto\n",
       "12713        keto      vegan\n",
       "16721        keto       keto\n",
       "11551        keto       keto\n",
       "10529        keto       keto\n",
       "6083        vegan      vegan\n",
       "8433        vegan      vegan\n",
       "8933        vegan      vegan\n",
       "13754        keto       keto\n",
       "14253        keto       keto"
      ]
     },
     "execution_count": 353,
     "metadata": {},
     "output_type": "execute_result"
    }
   ],
   "source": [
    "#compare ytest and prediction\n",
    "pred_df = pd.DataFrame({'true_values': y_test,\n",
    "                        'pred_probs': preds})\n",
    "\n",
    "pred_df.head()"
   ]
  },
  {
   "cell_type": "code",
   "execution_count": 358,
   "metadata": {},
   "outputs": [
    {
     "data": {
      "text/html": [
       "<div>\n",
       "<style scoped>\n",
       "    .dataframe tbody tr th:only-of-type {\n",
       "        vertical-align: middle;\n",
       "    }\n",
       "\n",
       "    .dataframe tbody tr th {\n",
       "        vertical-align: top;\n",
       "    }\n",
       "\n",
       "    .dataframe thead th {\n",
       "        text-align: right;\n",
       "    }\n",
       "</style>\n",
       "<table border=\"1\" class=\"dataframe\">\n",
       "  <thead>\n",
       "    <tr style=\"text-align: right;\">\n",
       "      <th></th>\n",
       "      <th>cleaned_text</th>\n",
       "    </tr>\n",
       "  </thead>\n",
       "  <tbody>\n",
       "    <tr>\n",
       "      <th>12997</th>\n",
       "      <td>think tri souffl egg thi morn</td>\n",
       "    </tr>\n",
       "    <tr>\n",
       "      <th>11968</th>\n",
       "      <td>waffl iron idea</td>\n",
       "    </tr>\n",
       "    <tr>\n",
       "      <th>14787</th>\n",
       "      <td>trucker invertershello ani trucker recommend i...</td>\n",
       "    </tr>\n",
       "    <tr>\n",
       "      <th>11641</th>\n",
       "      <td>mood swing</td>\n",
       "    </tr>\n",
       "    <tr>\n",
       "      <th>13997</th>\n",
       "      <td>love catastroph consequ cheat</td>\n",
       "    </tr>\n",
       "    <tr>\n",
       "      <th>...</th>\n",
       "      <td>...</td>\n",
       "    </tr>\n",
       "    <tr>\n",
       "      <th>9672</th>\n",
       "      <td>movi timebett popcorn celeri carrot dairi free...</td>\n",
       "    </tr>\n",
       "    <tr>\n",
       "      <th>11267</th>\n",
       "      <td>babi miracl sleep</td>\n",
       "    </tr>\n",
       "    <tr>\n",
       "      <th>17113</th>\n",
       "      <td>thought</td>\n",
       "    </tr>\n",
       "    <tr>\n",
       "      <th>15412</th>\n",
       "      <td>extraordinari bite bread</td>\n",
       "    </tr>\n",
       "    <tr>\n",
       "      <th>13556</th>\n",
       "      <td>make moneyyyi</td>\n",
       "    </tr>\n",
       "  </tbody>\n",
       "</table>\n",
       "<p>323 rows × 1 columns</p>\n",
       "</div>"
      ],
      "text/plain": [
       "                                            cleaned_text\n",
       "12997                      think tri souffl egg thi morn\n",
       "11968                                    waffl iron idea\n",
       "14787  trucker invertershello ani trucker recommend i...\n",
       "11641                                         mood swing\n",
       "13997                      love catastroph consequ cheat\n",
       "...                                                  ...\n",
       "9672   movi timebett popcorn celeri carrot dairi free...\n",
       "11267                                  babi miracl sleep\n",
       "17113                                            thought\n",
       "15412                           extraordinari bite bread\n",
       "13556                                      make moneyyyi\n",
       "\n",
       "[323 rows x 1 columns]"
      ]
     },
     "execution_count": 358,
     "metadata": {},
     "output_type": "execute_result"
    }
   ],
   "source": [
    "#create col for predicton analysis\n",
    "pred_res['Success'] = np.where(pred_res['prediction'] == pred_res['actual'],1,0)\n",
    "\n",
    "#missclassification on fp and fn\n",
    "miss_vegan = pred_res[(pred_res.Success == 0) & (pred_res.prediction == 'vegan')]\n",
    "miss_keto = pred_res[(pred_res.Success == 0)  & (pred_res.prediction == 'keto')]\n",
    "\n",
    "#predict vegan, actual keto\n",
    "pd.DataFrame(X_test[miss_vegan.index])"
   ]
  },
  {
   "cell_type": "code",
   "execution_count": 317,
   "metadata": {
    "scrolled": false
   },
   "outputs": [
    {
     "data": {
      "text/html": [
       "<div>\n",
       "<style scoped>\n",
       "    .dataframe tbody tr th:only-of-type {\n",
       "        vertical-align: middle;\n",
       "    }\n",
       "\n",
       "    .dataframe tbody tr th {\n",
       "        vertical-align: top;\n",
       "    }\n",
       "\n",
       "    .dataframe thead th {\n",
       "        text-align: right;\n",
       "    }\n",
       "</style>\n",
       "<table border=\"1\" class=\"dataframe\">\n",
       "  <thead>\n",
       "    <tr style=\"text-align: right;\">\n",
       "      <th></th>\n",
       "      <th>cleaned_text</th>\n",
       "    </tr>\n",
       "  </thead>\n",
       "  <tbody>\n",
       "    <tr>\n",
       "      <th>3258</th>\n",
       "      <td>fat burning chocolate avocado pudding make minute</td>\n",
       "    </tr>\n",
       "    <tr>\n",
       "      <th>8105</th>\n",
       "      <td>first week veganso finally changed diet slowly...</td>\n",
       "    </tr>\n",
       "    <tr>\n",
       "      <th>684</th>\n",
       "      <td>make test result triglyceride mg dl cholestero...</td>\n",
       "    </tr>\n",
       "    <tr>\n",
       "      <th>2876</th>\n",
       "      <td>rue de perle wine</td>\n",
       "    </tr>\n",
       "    <tr>\n",
       "      <th>8647</th>\n",
       "      <td>need new meal eat time day everyday</td>\n",
       "    </tr>\n",
       "    <tr>\n",
       "      <th>...</th>\n",
       "      <td>...</td>\n",
       "    </tr>\n",
       "    <tr>\n",
       "      <th>3719</th>\n",
       "      <td>started day challenge meal inspo</td>\n",
       "    </tr>\n",
       "    <tr>\n",
       "      <th>1340</th>\n",
       "      <td>shelf stable coffee creamer based coconut milk...</td>\n",
       "    </tr>\n",
       "    <tr>\n",
       "      <th>1717</th>\n",
       "      <td>think much bread wa today doe anyone keto</td>\n",
       "    </tr>\n",
       "    <tr>\n",
       "      <th>4092</th>\n",
       "      <td>zhou spirulina longevity super food review amp...</td>\n",
       "    </tr>\n",
       "    <tr>\n",
       "      <th>7646</th>\n",
       "      <td>tired timei work day week lie bed day take pot...</td>\n",
       "    </tr>\n",
       "  </tbody>\n",
       "</table>\n",
       "<p>72 rows × 1 columns</p>\n",
       "</div>"
      ],
      "text/plain": [
       "                                           cleaned_text\n",
       "3258  fat burning chocolate avocado pudding make minute\n",
       "8105  first week veganso finally changed diet slowly...\n",
       "684   make test result triglyceride mg dl cholestero...\n",
       "2876                                  rue de perle wine\n",
       "8647                need new meal eat time day everyday\n",
       "...                                                 ...\n",
       "3719                   started day challenge meal inspo\n",
       "1340  shelf stable coffee creamer based coconut milk...\n",
       "1717          think much bread wa today doe anyone keto\n",
       "4092  zhou spirulina longevity super food review amp...\n",
       "7646  tired timei work day week lie bed day take pot...\n",
       "\n",
       "[72 rows x 1 columns]"
      ]
     },
     "execution_count": 317,
     "metadata": {},
     "output_type": "execute_result"
    }
   ],
   "source": [
    "#predict keto, actual vegan\n",
    "pd.DataFrame(X_test[miss_keto.index])"
   ]
  },
  {
   "cell_type": "markdown",
   "metadata": {},
   "source": [
    "### Confusion Matrix"
   ]
  },
  {
   "cell_type": "code",
   "execution_count": 359,
   "metadata": {},
   "outputs": [],
   "source": [
    "cm = confusion_matrix(y_test, preds)"
   ]
  },
  {
   "cell_type": "code",
   "execution_count": 360,
   "metadata": {},
   "outputs": [],
   "source": [
    "tn,fp,fn,tp = confusion_matrix(y_test, preds).ravel()"
   ]
  },
  {
   "cell_type": "code",
   "execution_count": 361,
   "metadata": {},
   "outputs": [
    {
     "name": "stdout",
     "output_type": "stream",
     "text": [
      "True Negatives: 2831\n",
      "False Positives: 323\n",
      "False Negatives: 77\n",
      "True Positives: 2983\n"
     ]
    }
   ],
   "source": [
    "print(f'True Negatives: {tn}') #predict keto is keto\n",
    "print(f'False Positives: {fp}') #predict vegan but keto\n",
    "print(f'False Negatives: {fn}') #predict keto but vegan\n",
    "print(f'True Positives: {tp}') #predict vegan is vegan"
   ]
  },
  {
   "cell_type": "code",
   "execution_count": 378,
   "metadata": {
    "scrolled": false
   },
   "outputs": [
    {
     "data": {
      "image/png": "[encoded data removed]",
      "text/plain": [
       "<Figure size 720x720 with 2 Axes>"
      ]
     },
     "metadata": {
      "needs_background": "light"
     },
     "output_type": "display_data"
    }
   ],
   "source": [
    "fig, ax = plt.subplots(figsize=(10, 10))\n",
    "\n",
    "plot_confusion_matrix(final_model, X_test, y_test, cmap='Blues', \n",
    "                  values_format='d', ax=ax );\n",
    "plt.title('Confusion Matrix')\n",
    "plt.show()\n"
   ]
  },
  {
   "cell_type": "markdown",
   "metadata": {},
   "source": [
    "*Interpretation: High false positive counts compared to false negative.*"
   ]
  },
  {
   "cell_type": "markdown",
   "metadata": {},
   "source": [
    "### ROC AUC"
   ]
  },
  {
   "cell_type": "code",
   "execution_count": 382,
   "metadata": {},
   "outputs": [
    {
     "data": {
      "image/png": "[encoded data removed]",
      "text/plain": [
       "<Figure size 1080x576 with 1 Axes>"
      ]
     },
     "metadata": {
      "needs_background": "light"
     },
     "output_type": "display_data"
    }
   ],
   "source": [
    "fig, ax = plt.subplots(figsize=(15, 8))\n",
    "\n",
    "plot_roc_curve(final_model, X_test, y_test, ax=ax)\n",
    "plt.plot([0, 1], [0, 1],\n",
    "         label='baseline', linestyle='--')\n",
    "plt.title('ROC AUC Plot')\n",
    "plt.legend()\n",
    "plt.show()"
   ]
  },
  {
   "cell_type": "code",
   "execution_count": null,
   "metadata": {},
   "outputs": [],
   "source": []
  },
  {
   "cell_type": "markdown",
   "metadata": {},
   "source": [
    "### Word Importance"
   ]
  },
  {
   "cell_type": "code",
   "execution_count": 383,
   "metadata": {},
   "outputs": [],
   "source": [
    "coef = best_lr_tvec.named_steps['lr'].coef_\n",
    "feature_names = best_lr_tvec.named_steps['tvec'].get_feature_names()\n",
    "word_importance = pd.Series(coef[0], feature_names).sort_values()"
   ]
  },
  {
   "cell_type": "code",
   "execution_count": 384,
   "metadata": {},
   "outputs": [
    {
     "data": {
      "text/plain": [
       "keto         -16.090898\n",
       "carb          -7.498172\n",
       "start         -4.353061\n",
       "ketosi        -4.261630\n",
       "weight        -4.198834\n",
       "fat           -4.008643\n",
       "keton         -3.641130\n",
       "lb            -3.552961\n",
       "pound         -3.260035\n",
       "week          -3.051808\n",
       "nsv           -2.996766\n",
       "sugar         -2.993026\n",
       "cheat         -2.966863\n",
       "fast          -2.719138\n",
       "macro         -2.700996\n",
       "loss          -2.646992\n",
       "ketogen       -2.612804\n",
       "day           -2.591592\n",
       "lost          -2.508440\n",
       "electrolyt    -2.490443\n",
       "dtype: float64"
      ]
     },
     "execution_count": 384,
     "metadata": {},
     "output_type": "execute_result"
    }
   ],
   "source": [
    "#keto\n",
    "word_importance.head(20)"
   ]
  },
  {
   "cell_type": "code",
   "execution_count": 385,
   "metadata": {
    "scrolled": false
   },
   "outputs": [
    {
     "data": {
      "text/plain": [
       "yummi          1.538793\n",
       "ban            1.540183\n",
       "steak          1.553949\n",
       "soy            1.572888\n",
       "vegetarian     1.591618\n",
       "farm           1.659998\n",
       "ethic          1.680040\n",
       "pig            1.782741\n",
       "poll           1.789251\n",
       "seitan         1.870832\n",
       "human          2.041641\n",
       "dairi          2.166729\n",
       "milk           2.226061\n",
       "base           2.237990\n",
       "cow            2.283970\n",
       "tofu           2.895060\n",
       "meat           3.348006\n",
       "plant          3.883008\n",
       "anim           5.809236\n",
       "vegan         14.141978\n",
       "dtype: float64"
      ]
     },
     "execution_count": 385,
     "metadata": {},
     "output_type": "execute_result"
    }
   ],
   "source": [
    "#vegan\n",
    "word_importance.tail(20)"
   ]
  },
  {
   "cell_type": "markdown",
   "metadata": {},
   "source": [
    "\n",
    "**Preprocessing and Modeling**\n",
    "- Is text data successfully converted to a matrix representation?\n",
    "- Are methods such as stop words, stemming, and lemmatization explored?\n",
    "- Does the student properly split and/or sample the data for validation/training purposes?\n",
    "- Does the student test and evaluate a variety of models to identify a production algorithm (**AT MINIMUM:** Bayes and one other model)?\n",
    "- Does the student defend their choice of production model relevant to the data at hand and the problem?\n",
    "- Does the student explain how the model works and evaluate its performance successes/downfalls?\n"
   ]
  },
  {
   "cell_type": "markdown",
   "metadata": {},
   "source": [
    "**Evaluation and Conceptual Understanding**\n",
    "- Does the student accurately identify and explain the baseline score?\n",
    "- Does the student select and use metrics relevant to the problem objective?\n",
    "- Does the student interpret the results of their model for purposes of inference?\n",
    "- Is domain knowledge demonstrated when interpreting results?\n",
    "- Does the student provide appropriate interpretation with regards to descriptive and inferential statistics?\n"
   ]
  },
  {
   "cell_type": "markdown",
   "metadata": {},
   "source": [
    "**Conclusion and Recommendations**\n",
    "- Does the student provide appropriate context to connect individual steps back to the overall project?\n",
    "- Is it clear how the final recommendations were reached?\n",
    "- Are the conclusions/recommendations clearly stated?\n",
    "- Does the conclusion answer the original problem statement?\n",
    "- Does the student address how findings of this research can be applied for the benefit of stakeholders?\n",
    "- Are future steps to move the project forward identified?"
   ]
  }
 ],
 "metadata": {
  "kernelspec": {
   "display_name": "Python 3",
   "language": "python",
   "name": "python3"
  },
  "language_info": {
   "codemirror_mode": {
    "name": "ipython",
    "version": 3
   },
   "file_extension": ".py",
   "mimetype": "text/x-python",
   "name": "python",
   "nbconvert_exporter": "python",
   "pygments_lexer": "ipython3",
   "version": "3.8.5"
  }
 },
 "nbformat": 4,
 "nbformat_minor": 4
}
