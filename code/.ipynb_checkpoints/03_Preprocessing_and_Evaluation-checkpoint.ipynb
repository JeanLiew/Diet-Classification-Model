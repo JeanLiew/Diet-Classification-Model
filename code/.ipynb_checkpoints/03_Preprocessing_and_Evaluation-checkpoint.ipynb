{
 "cells": [
  {
   "cell_type": "markdown",
   "metadata": {},
   "source": [
    "# Diet Classification - Part 3"
   ]
  },
  {
   "cell_type": "markdown",
   "metadata": {},
   "source": [
    "Part 3 consist of the preprocessing and modelling of the combined datasets. Data extraction and EDA will be available in Part 1 and Part 2 respectively."
   ]
  },
  {
   "cell_type": "markdown",
   "metadata": {},
   "source": [
    "## Content"
   ]
  },
  {
   "cell_type": "markdown",
   "metadata": {},
   "source": [
    "- [Data Import](#Data_Import)\n",
    "- [Preprocessing and Modelling](#Preprocessing_and_Modelling)"
   ]
  },
  {
   "cell_type": "markdown",
   "metadata": {},
   "source": [
    "## Data Import"
   ]
  },
  {
   "cell_type": "code",
   "execution_count": 2,
   "metadata": {},
   "outputs": [],
   "source": [
    "#import vanilla python\n",
    "import numpy as np\n",
    "import pandas as pd\n",
    "import seaborn as sns\n",
    "import matplotlib.pyplot as plt\n",
    "\n",
    "#import preprocessing library\n",
    "from sklearn.model_selection import train_test_split, GridSearchCV, cross_val_score\n",
    "from sklearn.pipeline import Pipeline\n",
    "from sklearn.naive_bayes import MultinomialNB\n",
    "from sklearn.linear_model import LogisticRegression\n",
    "from sklearn.metrics import confusion_matrix, plot_confusion_matrix, plot_roc_curve\n",
    "from sklearn.feature_extraction.text import CountVectorizer, TfidfVectorizer\n"
   ]
  },
  {
   "cell_type": "code",
   "execution_count": 3,
   "metadata": {},
   "outputs": [],
   "source": [
    "#Import combine datasets\n",
    "combined = pd.read_csv('../data/combined_df')\n",
    "#set max row preview\n",
    "pd.set_option('display.max_column', 1000)"
   ]
  },
  {
   "cell_type": "code",
   "execution_count": 4,
   "metadata": {
    "scrolled": true
   },
   "outputs": [
    {
     "data": {
      "text/html": [
       "<div>\n",
       "<style scoped>\n",
       "    .dataframe tbody tr th:only-of-type {\n",
       "        vertical-align: middle;\n",
       "    }\n",
       "\n",
       "    .dataframe tbody tr th {\n",
       "        vertical-align: top;\n",
       "    }\n",
       "\n",
       "    .dataframe thead th {\n",
       "        text-align: right;\n",
       "    }\n",
       "</style>\n",
       "<table border=\"1\" class=\"dataframe\">\n",
       "  <thead>\n",
       "    <tr style=\"text-align: right;\">\n",
       "      <th></th>\n",
       "      <th>author</th>\n",
       "      <th>link_flair_text</th>\n",
       "      <th>num_comments</th>\n",
       "      <th>subreddit_subscribers</th>\n",
       "      <th>subreddit</th>\n",
       "      <th>text</th>\n",
       "      <th>post_datetime</th>\n",
       "      <th>date</th>\n",
       "      <th>hour</th>\n",
       "      <th>day</th>\n",
       "      <th>text_word_count</th>\n",
       "    </tr>\n",
       "  </thead>\n",
       "  <tbody>\n",
       "    <tr>\n",
       "      <th>0</th>\n",
       "      <td>Elise_93</td>\n",
       "      <td>Funny</td>\n",
       "      <td>0</td>\n",
       "      <td>590954</td>\n",
       "      <td>vegan</td>\n",
       "      <td>A summary of carnist logic about PETA:</td>\n",
       "      <td>2021-04-18 02:03:10</td>\n",
       "      <td>2021-04-18</td>\n",
       "      <td>2</td>\n",
       "      <td>18</td>\n",
       "      <td>7</td>\n",
       "    </tr>\n",
       "    <tr>\n",
       "      <th>1</th>\n",
       "      <td>SeviathanVonEldritch</td>\n",
       "      <td>Rant</td>\n",
       "      <td>0</td>\n",
       "      <td>590952</td>\n",
       "      <td>vegan</td>\n",
       "      <td>Underestimated it as well...</td>\n",
       "      <td>2021-04-18 01:57:56</td>\n",
       "      <td>2021-04-18</td>\n",
       "      <td>1</td>\n",
       "      <td>18</td>\n",
       "      <td>4</td>\n",
       "    </tr>\n",
       "    <tr>\n",
       "      <th>2</th>\n",
       "      <td>quidiuris</td>\n",
       "      <td>Uncategorised</td>\n",
       "      <td>0</td>\n",
       "      <td>590952</td>\n",
       "      <td>vegan</td>\n",
       "      <td>Hair conditioner bars - any recommendations?</td>\n",
       "      <td>2021-04-18 01:55:05</td>\n",
       "      <td>2021-04-18</td>\n",
       "      <td>1</td>\n",
       "      <td>18</td>\n",
       "      <td>6</td>\n",
       "    </tr>\n",
       "    <tr>\n",
       "      <th>3</th>\n",
       "      <td>lunanabiki</td>\n",
       "      <td>Uncategorised</td>\n",
       "      <td>0</td>\n",
       "      <td>590953</td>\n",
       "      <td>vegan</td>\n",
       "      <td>nonvegan logic that surprises me (that i haven...</td>\n",
       "      <td>2021-04-18 01:51:11</td>\n",
       "      <td>2021-04-18</td>\n",
       "      <td>1</td>\n",
       "      <td>18</td>\n",
       "      <td>12</td>\n",
       "    </tr>\n",
       "    <tr>\n",
       "      <th>4</th>\n",
       "      <td>pastelprincess1</td>\n",
       "      <td>Uncategorised</td>\n",
       "      <td>0</td>\n",
       "      <td>590953</td>\n",
       "      <td>vegan</td>\n",
       "      <td>Sustainable + Ethical Alternatives Directory</td>\n",
       "      <td>2021-04-18 01:50:06</td>\n",
       "      <td>2021-04-18</td>\n",
       "      <td>1</td>\n",
       "      <td>18</td>\n",
       "      <td>5</td>\n",
       "    </tr>\n",
       "  </tbody>\n",
       "</table>\n",
       "</div>"
      ],
      "text/plain": [
       "                 author link_flair_text  num_comments  subreddit_subscribers  \\\n",
       "0              Elise_93           Funny             0                 590954   \n",
       "1  SeviathanVonEldritch            Rant             0                 590952   \n",
       "2             quidiuris   Uncategorised             0                 590952   \n",
       "3            lunanabiki   Uncategorised             0                 590953   \n",
       "4       pastelprincess1   Uncategorised             0                 590953   \n",
       "\n",
       "  subreddit                                               text  \\\n",
       "0     vegan             A summary of carnist logic about PETA:   \n",
       "1     vegan                       Underestimated it as well...   \n",
       "2     vegan       Hair conditioner bars - any recommendations?   \n",
       "3     vegan  nonvegan logic that surprises me (that i haven...   \n",
       "4     vegan       Sustainable + Ethical Alternatives Directory   \n",
       "\n",
       "         post_datetime        date  hour  day  text_word_count  \n",
       "0  2021-04-18 02:03:10  2021-04-18     2   18                7  \n",
       "1  2021-04-18 01:57:56  2021-04-18     1   18                4  \n",
       "2  2021-04-18 01:55:05  2021-04-18     1   18                6  \n",
       "3  2021-04-18 01:51:11  2021-04-18     1   18               12  \n",
       "4  2021-04-18 01:50:06  2021-04-18     1   18                5  "
      ]
     },
     "execution_count": 4,
     "metadata": {},
     "output_type": "execute_result"
    }
   ],
   "source": [
    "combined.head()"
   ]
  },
  {
   "cell_type": "code",
   "execution_count": 5,
   "metadata": {},
   "outputs": [
    {
     "data": {
      "text/plain": [
       "author                   0\n",
       "link_flair_text          0\n",
       "num_comments             0\n",
       "subreddit_subscribers    0\n",
       "subreddit                0\n",
       "text                     0\n",
       "post_datetime            0\n",
       "date                     0\n",
       "hour                     0\n",
       "day                      0\n",
       "text_word_count          0\n",
       "dtype: int64"
      ]
     },
     "execution_count": 5,
     "metadata": {},
     "output_type": "execute_result"
    }
   ],
   "source": [
    "#checking to ensure no null value\n",
    "combined.isna().sum()"
   ]
  },
  {
   "cell_type": "markdown",
   "metadata": {},
   "source": [
    "## Preprocessing and Modelling"
   ]
  },
  {
   "cell_type": "markdown",
   "metadata": {},
   "source": [
    "In the preprocessing, we will start with dissecting the text table to remove special characters, like emojis, and digits which will not be critical to the this context. The words will also be filtered on the stop words before modelling."
   ]
  },
  {
   "cell_type": "markdown",
   "metadata": {},
   "source": [
    "### Removing special characters and text processing"
   ]
  },
  {
   "cell_type": "code",
   "execution_count": 6,
   "metadata": {},
   "outputs": [],
   "source": [
    "#import tokenization library\n",
    "\n",
    "from nltk.tokenize import RegexpTokenizer\n",
    "from nltk.stem import WordNetLemmatizer\n",
    "from nltk.corpus import stopwords\n",
    "from nltk.stem.porter import PorterStemmer\n",
    "\n",
    "import re"
   ]
  },
  {
   "cell_type": "code",
   "execution_count": 7,
   "metadata": {},
   "outputs": [],
   "source": [
    "#define tokenizer\n",
    "def clean_text(words):\n",
    "    \"\"\"input for words/text in string to remove special characters\"\"\"\n",
    "    #lowercase words\n",
    "    words = words.lower()\n",
    "    \n",
    "    #remove other words/digit/special character\n",
    "    tokenizer = RegexpTokenizer(r'[a-z]+')\n",
    "    words = tokenizer.tokenize(words)\n",
    "    \n",
    "    #stem/lemmatize\n",
    "    lemmatizer = WordNetLemmatizer()\n",
    "    words = [lemmatizer.lemmatize(word) for word in words]\n",
    "    \n",
    "    stemmer = PorterStemmer()\n",
    "    words = [stemmer.stem(word) for word in words]\n",
    "    \n",
    "    #remove stopwords\n",
    "    words = [word for word in words if word not in stopwords.words('english')]\n",
    "    \n",
    "    return ' '.join(words)"
   ]
  },
  {
   "cell_type": "code",
   "execution_count": 9,
   "metadata": {},
   "outputs": [
    {
     "data": {
      "text/html": [
       "<div>\n",
       "<style scoped>\n",
       "    .dataframe tbody tr th:only-of-type {\n",
       "        vertical-align: middle;\n",
       "    }\n",
       "\n",
       "    .dataframe tbody tr th {\n",
       "        vertical-align: top;\n",
       "    }\n",
       "\n",
       "    .dataframe thead th {\n",
       "        text-align: right;\n",
       "    }\n",
       "</style>\n",
       "<table border=\"1\" class=\"dataframe\">\n",
       "  <thead>\n",
       "    <tr style=\"text-align: right;\">\n",
       "      <th></th>\n",
       "      <th>author</th>\n",
       "      <th>link_flair_text</th>\n",
       "      <th>num_comments</th>\n",
       "      <th>subreddit_subscribers</th>\n",
       "      <th>subreddit</th>\n",
       "      <th>text</th>\n",
       "      <th>post_datetime</th>\n",
       "      <th>date</th>\n",
       "      <th>hour</th>\n",
       "      <th>day</th>\n",
       "      <th>text_word_count</th>\n",
       "      <th>cleaned_text</th>\n",
       "    </tr>\n",
       "  </thead>\n",
       "  <tbody>\n",
       "    <tr>\n",
       "      <th>0</th>\n",
       "      <td>Elise_93</td>\n",
       "      <td>Funny</td>\n",
       "      <td>0</td>\n",
       "      <td>590954</td>\n",
       "      <td>vegan</td>\n",
       "      <td>A summary of carnist logic about PETA:</td>\n",
       "      <td>2021-04-18 02:03:10</td>\n",
       "      <td>2021-04-18</td>\n",
       "      <td>2</td>\n",
       "      <td>18</td>\n",
       "      <td>7</td>\n",
       "      <td>summari carnist logic peta</td>\n",
       "    </tr>\n",
       "    <tr>\n",
       "      <th>1</th>\n",
       "      <td>SeviathanVonEldritch</td>\n",
       "      <td>Rant</td>\n",
       "      <td>0</td>\n",
       "      <td>590952</td>\n",
       "      <td>vegan</td>\n",
       "      <td>Underestimated it as well...</td>\n",
       "      <td>2021-04-18 01:57:56</td>\n",
       "      <td>2021-04-18</td>\n",
       "      <td>1</td>\n",
       "      <td>18</td>\n",
       "      <td>4</td>\n",
       "      <td>underestim well</td>\n",
       "    </tr>\n",
       "    <tr>\n",
       "      <th>2</th>\n",
       "      <td>quidiuris</td>\n",
       "      <td>Uncategorised</td>\n",
       "      <td>0</td>\n",
       "      <td>590952</td>\n",
       "      <td>vegan</td>\n",
       "      <td>Hair conditioner bars - any recommendations?</td>\n",
       "      <td>2021-04-18 01:55:05</td>\n",
       "      <td>2021-04-18</td>\n",
       "      <td>1</td>\n",
       "      <td>18</td>\n",
       "      <td>6</td>\n",
       "      <td>hair condition bar ani recommend</td>\n",
       "    </tr>\n",
       "    <tr>\n",
       "      <th>3</th>\n",
       "      <td>lunanabiki</td>\n",
       "      <td>Uncategorised</td>\n",
       "      <td>0</td>\n",
       "      <td>590953</td>\n",
       "      <td>vegan</td>\n",
       "      <td>nonvegan logic that surprises me (that i haven...</td>\n",
       "      <td>2021-04-18 01:51:11</td>\n",
       "      <td>2021-04-18</td>\n",
       "      <td>1</td>\n",
       "      <td>18</td>\n",
       "      <td>12</td>\n",
       "      <td>nonvegan logic surpris seen yet</td>\n",
       "    </tr>\n",
       "    <tr>\n",
       "      <th>4</th>\n",
       "      <td>pastelprincess1</td>\n",
       "      <td>Uncategorised</td>\n",
       "      <td>0</td>\n",
       "      <td>590953</td>\n",
       "      <td>vegan</td>\n",
       "      <td>Sustainable + Ethical Alternatives Directory</td>\n",
       "      <td>2021-04-18 01:50:06</td>\n",
       "      <td>2021-04-18</td>\n",
       "      <td>1</td>\n",
       "      <td>18</td>\n",
       "      <td>5</td>\n",
       "      <td>sustain ethic altern directori</td>\n",
       "    </tr>\n",
       "  </tbody>\n",
       "</table>\n",
       "</div>"
      ],
      "text/plain": [
       "                 author link_flair_text  num_comments  subreddit_subscribers  \\\n",
       "0              Elise_93           Funny             0                 590954   \n",
       "1  SeviathanVonEldritch            Rant             0                 590952   \n",
       "2             quidiuris   Uncategorised             0                 590952   \n",
       "3            lunanabiki   Uncategorised             0                 590953   \n",
       "4       pastelprincess1   Uncategorised             0                 590953   \n",
       "\n",
       "  subreddit                                               text  \\\n",
       "0     vegan             A summary of carnist logic about PETA:   \n",
       "1     vegan                       Underestimated it as well...   \n",
       "2     vegan       Hair conditioner bars - any recommendations?   \n",
       "3     vegan  nonvegan logic that surprises me (that i haven...   \n",
       "4     vegan       Sustainable + Ethical Alternatives Directory   \n",
       "\n",
       "         post_datetime        date  hour  day  text_word_count  \\\n",
       "0  2021-04-18 02:03:10  2021-04-18     2   18                7   \n",
       "1  2021-04-18 01:57:56  2021-04-18     1   18                4   \n",
       "2  2021-04-18 01:55:05  2021-04-18     1   18                6   \n",
       "3  2021-04-18 01:51:11  2021-04-18     1   18               12   \n",
       "4  2021-04-18 01:50:06  2021-04-18     1   18                5   \n",
       "\n",
       "                       cleaned_text  \n",
       "0        summari carnist logic peta  \n",
       "1                   underestim well  \n",
       "2  hair condition bar ani recommend  \n",
       "3   nonvegan logic surpris seen yet  \n",
       "4    sustain ethic altern directori  "
      ]
     },
     "execution_count": 9,
     "metadata": {},
     "output_type": "execute_result"
    }
   ],
   "source": [
    "cleaned_text  = combined['text'].apply(clean_text)\n",
    "#add col for cleaned text\n",
    "combined['cleaned_text'] = cleaned_text\n",
    "combined.head()"
   ]
  },
  {
   "cell_type": "code",
   "execution_count": 10,
   "metadata": {},
   "outputs": [],
   "source": [
    "combined.to_csv('../data/model_data.csv',index=False)"
   ]
  },
  {
   "cell_type": "markdown",
   "metadata": {},
   "source": [
    "### Modelling"
   ]
  },
  {
   "cell_type": "markdown",
   "metadata": {},
   "source": [
    "Naives Bayes and Logistic Regression model will be employed for this classification model. These results will be processed through CountVectoriser and TfidfVectoriser to observed the best model pairing of prediction. The best model will then be used for final prediction. The models will be evaluated based on accuracy score. In this problem statement, we are looking for text keywords that may lead us to derive a better understanding on the keto-redditers to market vegan products better."
   ]
  },
  {
   "cell_type": "markdown",
   "metadata": {},
   "source": [
    "### Baseline Model"
   ]
  },
  {
   "cell_type": "code",
   "execution_count": 11,
   "metadata": {},
   "outputs": [],
   "source": [
    "#define X and y \n",
    "\n",
    "X = combined['cleaned_text']\n",
    "y = combined['subreddit']"
   ]
  },
  {
   "cell_type": "code",
   "execution_count": 12,
   "metadata": {},
   "outputs": [
    {
     "data": {
      "text/plain": [
       "keto     0.507541\n",
       "vegan    0.492459\n",
       "Name: subreddit, dtype: float64"
      ]
     },
     "execution_count": 12,
     "metadata": {},
     "output_type": "execute_result"
    }
   ],
   "source": [
    "#check proportion of both reddits\n",
    "y.value_counts(normalize = True)"
   ]
  },
  {
   "cell_type": "code",
   "execution_count": 117,
   "metadata": {},
   "outputs": [
    {
     "name": "stdout",
     "output_type": "stream",
     "text": [
      "Baseline Accuracy: 0.508\n"
     ]
    }
   ],
   "source": [
    "baseline = round(y.value_counts(normalize = True),3).values.max()\n",
    "print(f'Baseline Accuracy: {baseline}')"
   ]
  },
  {
   "cell_type": "markdown",
   "metadata": {},
   "source": [
    "The above is the baseline model of accuracy 0.508 and our model is expected to outperform this score. "
   ]
  },
  {
   "cell_type": "code",
   "execution_count": 14,
   "metadata": {},
   "outputs": [],
   "source": [
    "#Train Test Split \n",
    "X_train, X_test, y_train, y_test = train_test_split(X, y, \n",
    "                                                    stratify = y, \n",
    "                                                    test_size= 0.33, \n",
    "                                                    random_state=42)"
   ]
  },
  {
   "cell_type": "markdown",
   "metadata": {},
   "source": [
    "### Logistic Regression"
   ]
  },
  {
   "cell_type": "markdown",
   "metadata": {},
   "source": [
    "#### Count Vectorization"
   ]
  },
  {
   "cell_type": "code",
   "execution_count": 15,
   "metadata": {},
   "outputs": [
    {
     "name": "stdout",
     "output_type": "stream",
     "text": [
      "Training Accuracy:  0.9706721623335447\n",
      "Testing Accuracy:  0.929835854522047\n",
      "\n",
      "\n"
     ]
    },
    {
     "data": {
      "text/plain": [
       "{'cvec__max_df': 0.8,\n",
       " 'cvec__max_features': 8000,\n",
       " 'cvec__min_df': 2,\n",
       " 'cvec__ngram_range': (1, 2),\n",
       " 'lr__C': 1,\n",
       " 'lr__penalty': 'l2'}"
      ]
     },
     "execution_count": 15,
     "metadata": {},
     "output_type": "execute_result"
    }
   ],
   "source": [
    "pipe = Pipeline([\n",
    "    ('cvec', CountVectorizer()),\n",
    "    ('lr', LogisticRegression(solver='liblinear', max_iter=200, random_state=42))\n",
    "])\n",
    "\n",
    "pipe_params = {\n",
    "    'cvec__max_features': [8000, 8500],\n",
    "    'cvec__max_df': [0.8, 0.85],\n",
    "    'cvec__min_df': [2, 3],\n",
    "    'cvec__ngram_range': [(1,1), (1,2)],\n",
    "    'lr__penalty': ['l1', 'l2'],\n",
    "    'lr__C': [1, 0.1]\n",
    "}\n",
    "\n",
    "gs = GridSearchCV(pipe, pipe_params, cv=5, n_jobs=-1)\n",
    "gs.fit(X_train, y_train)\n",
    "best_lr_cvec = gs.best_estimator_\n",
    "print('Training Accuracy: ', best_lr_cvec.score(X_train, y_train))\n",
    "print('Testing Accuracy: ', best_lr_cvec.score(X_test, y_test))\n",
    "print('\\n')\n",
    "gs.best_params_"
   ]
  },
  {
   "cell_type": "markdown",
   "metadata": {},
   "source": [
    "#### Tfidf Vectorization"
   ]
  },
  {
   "cell_type": "code",
   "execution_count": 16,
   "metadata": {},
   "outputs": [
    {
     "name": "stdout",
     "output_type": "stream",
     "text": [
      "Training Accuracy:  0.9580691185795814\n",
      "Testing Accuracy:  0.9356292243321532\n",
      "\n",
      "\n"
     ]
    },
    {
     "data": {
      "text/plain": [
       "{'lr__C': 1,\n",
       " 'lr__penalty': 'l2',\n",
       " 'tvec__max_df': 0.7,\n",
       " 'tvec__max_features': 8000,\n",
       " 'tvec__min_df': 3,\n",
       " 'tvec__ngram_range': (1, 1)}"
      ]
     },
     "execution_count": 16,
     "metadata": {},
     "output_type": "execute_result"
    }
   ],
   "source": [
    "pipe = Pipeline([\n",
    "    ('tvec', TfidfVectorizer()),\n",
    "    ('lr', LogisticRegression(solver='liblinear', max_iter=200, random_state=42))\n",
    "])\n",
    "\n",
    "pipe_params = {\n",
    "    'tvec__max_features': [8000, 8500],\n",
    "    'tvec__max_df': [0.7, 0.8],\n",
    "    'tvec__min_df': [2, 3],\n",
    "    'tvec__ngram_range': [(1,1), (1,2)],\n",
    "    'lr__penalty': ['l1', 'l2'],\n",
    "    'lr__C': [1, 0.1]\n",
    "}\n",
    "\n",
    "gs = GridSearchCV(pipe, pipe_params, cv=5, n_jobs=-1)\n",
    "gs.fit(X_train, y_train)\n",
    "best_lr_tvec = gs.best_estimator_\n",
    "print('Training Accuracy: ', best_lr_tvec.score(X_train, y_train))\n",
    "print('Testing Accuracy: ', best_lr_tvec.score(X_test, y_test))\n",
    "print('\\n')\n",
    "gs.best_params_"
   ]
  },
  {
   "cell_type": "markdown",
   "metadata": {},
   "source": [
    "### Naive Bayes"
   ]
  },
  {
   "cell_type": "markdown",
   "metadata": {},
   "source": [
    "#### Count Vectorization"
   ]
  },
  {
   "cell_type": "code",
   "execution_count": 17,
   "metadata": {},
   "outputs": [
    {
     "name": "stdout",
     "output_type": "stream",
     "text": [
      "Training Accuracy:  0.9300887761572606\n",
      "Testing Accuracy:  0.9124557450917283\n",
      "\n",
      "\n"
     ]
    },
    {
     "data": {
      "text/plain": [
       "{'cvec__max_df': 0.4,\n",
       " 'cvec__max_features': 9000,\n",
       " 'cvec__min_df': 2,\n",
       " 'cvec__ngram_range': (1, 2),\n",
       " 'nb__alpha': 0.1020408163265306}"
      ]
     },
     "execution_count": 17,
     "metadata": {},
     "output_type": "execute_result"
    }
   ],
   "source": [
    "pipe = Pipeline([\n",
    "    ('cvec', CountVectorizer()),\n",
    "    ('nb', MultinomialNB())\n",
    "])\n",
    "\n",
    "pipe_params = {\n",
    "    'cvec__max_features': [8000, 9000],\n",
    "    'cvec__max_df': [0.3, 0.4],\n",
    "    'cvec__min_df': [2, 3],\n",
    "    'cvec__ngram_range': [(1,1), (1,2)],\n",
    "    'nb__alpha': np.linspace(0, 1)\n",
    "}\n",
    "\n",
    "gs = GridSearchCV(pipe, pipe_params, cv=5, n_jobs=-1)\n",
    "gs.fit(X_train, y_train)\n",
    "best_nb_cvec = gs.best_estimator_\n",
    "print('Training Accuracy: ', best_nb_cvec.score(X_train, y_train))\n",
    "print('Testing Accuracy: ', best_nb_cvec.score(X_test, y_test))\n",
    "print('\\n')\n",
    "gs.best_params_"
   ]
  },
  {
   "cell_type": "markdown",
   "metadata": {},
   "source": [
    "#### Tfidf Vectorization"
   ]
  },
  {
   "cell_type": "code",
   "execution_count": 18,
   "metadata": {},
   "outputs": [
    {
     "name": "stdout",
     "output_type": "stream",
     "text": [
      "Training Accuracy:  0.937856689917565\n",
      "Testing Accuracy:  0.9110074026392018\n",
      "\n",
      "\n"
     ]
    },
    {
     "data": {
      "text/plain": [
       "{'nb__alpha': 0.02040816326530612,\n",
       " 'tvec__max_df': 0.4,\n",
       " 'tvec__max_features': 8500,\n",
       " 'tvec__min_df': 2,\n",
       " 'tvec__ngram_range': (1, 2)}"
      ]
     },
     "execution_count": 18,
     "metadata": {},
     "output_type": "execute_result"
    }
   ],
   "source": [
    "pipe = Pipeline([\n",
    "    ('tvec', TfidfVectorizer()),\n",
    "    ('nb', MultinomialNB())\n",
    "])\n",
    "\n",
    "pipe_params = {\n",
    "    'tvec__max_features': [8000, 8500],\n",
    "    'tvec__max_df': [0.4, 0.5],\n",
    "    'tvec__min_df': [2, 3],\n",
    "    'tvec__ngram_range': [(1,1), (1,2)],\n",
    "    'nb__alpha': np.linspace(0, 1)\n",
    "}\n",
    "\n",
    "gs = GridSearchCV(pipe, pipe_params, cv=5, n_jobs=-1)\n",
    "gs.fit(X_train, y_train)\n",
    "best_nb_tvec = gs.best_estimator_\n",
    "print('Training Accuracy: ', best_nb_tvec.score(X_train, y_train))\n",
    "print('Testing Accuracy: ', best_nb_tvec.score(X_test, y_test))\n",
    "print('\\n')\n",
    "gs.best_params_"
   ]
  },
  {
   "cell_type": "code",
   "execution_count": 119,
   "metadata": {},
   "outputs": [
    {
     "data": {
      "text/html": [
       "<div>\n",
       "<style scoped>\n",
       "    .dataframe tbody tr th:only-of-type {\n",
       "        vertical-align: middle;\n",
       "    }\n",
       "\n",
       "    .dataframe tbody tr th {\n",
       "        vertical-align: top;\n",
       "    }\n",
       "\n",
       "    .dataframe thead th {\n",
       "        text-align: right;\n",
       "    }\n",
       "</style>\n",
       "<table border=\"1\" class=\"dataframe\">\n",
       "  <thead>\n",
       "    <tr style=\"text-align: right;\">\n",
       "      <th></th>\n",
       "      <th>Model</th>\n",
       "      <th>Vectorizer</th>\n",
       "      <th>Training Accuracy</th>\n",
       "      <th>Test Accuracy</th>\n",
       "    </tr>\n",
       "  </thead>\n",
       "  <tbody>\n",
       "    <tr>\n",
       "      <th>0</th>\n",
       "      <td>Baseline</td>\n",
       "      <td></td>\n",
       "      <td>0.508000</td>\n",
       "      <td></td>\n",
       "    </tr>\n",
       "    <tr>\n",
       "      <th>1</th>\n",
       "      <td>Logistic Regression</td>\n",
       "      <td>CountVectorizer</td>\n",
       "      <td>0.970672</td>\n",
       "      <td>0.929836</td>\n",
       "    </tr>\n",
       "    <tr>\n",
       "      <th>2</th>\n",
       "      <td>Logistic Regression</td>\n",
       "      <td>TfidfVectorizer</td>\n",
       "      <td>0.958069</td>\n",
       "      <td>0.935629</td>\n",
       "    </tr>\n",
       "    <tr>\n",
       "      <th>3</th>\n",
       "      <td>Naives Bayes</td>\n",
       "      <td>CountVectorizer</td>\n",
       "      <td>0.930089</td>\n",
       "      <td>0.912456</td>\n",
       "    </tr>\n",
       "    <tr>\n",
       "      <th>4</th>\n",
       "      <td>Naives Bayes</td>\n",
       "      <td>TfidfVectorizer</td>\n",
       "      <td>0.937857</td>\n",
       "      <td>0.911007</td>\n",
       "    </tr>\n",
       "  </tbody>\n",
       "</table>\n",
       "</div>"
      ],
      "text/plain": [
       "                 Model       Vectorizer  Training Accuracy Test Accuracy\n",
       "0             Baseline                            0.508000              \n",
       "1  Logistic Regression  CountVectorizer           0.970672      0.929836\n",
       "2  Logistic Regression  TfidfVectorizer           0.958069      0.935629\n",
       "3         Naives Bayes  CountVectorizer           0.930089      0.912456\n",
       "4         Naives Bayes  TfidfVectorizer           0.937857      0.911007"
      ]
     },
     "execution_count": 119,
     "metadata": {},
     "output_type": "execute_result"
    }
   ],
   "source": [
    "#display result in dataframe\n",
    "model_df = pd.DataFrame({\n",
    "    'Model' :['Baseline','Logistic Regression','Logistic Regression','Naives Bayes','Naives Bayes'],\n",
    "    'Vectorizer' :['','CountVectorizer','TfidfVectorizer','CountVectorizer','TfidfVectorizer'],\n",
    "    'Training Accuracy' : [baseline, best_lr_cvec.score(X_train, y_train), best_lr_tvec.score(X_train, y_train), \n",
    "                           best_nb_cvec.score(X_train, y_train), best_nb_tvec.score(X_train, y_train)],\n",
    "    'Test Accuracy' : ['' , best_lr_cvec.score(X_test, y_test), best_lr_tvec.score(X_test, y_test), \n",
    "                       best_nb_cvec.score(X_test, y_test), best_nb_tvec.score(X_test, y_test)]\n",
    "})\n",
    "\n",
    "model_df"
   ]
  },
  {
   "cell_type": "markdown",
   "metadata": {},
   "source": [
    "All four models have performed far better than the baseline model, which is 0.508. All four models are scoring above 0.90. \n",
    "\n",
    "After hyperparameter tuning, from the above table, the best model pairing is Logistic Regression with TfidfVectorizer. The training score and test score are optimized with smaller difference in both train and test score. The possible reason for the high accuracy is likely contributed from the obvious keywords, which we will investigate in later stage. "
   ]
  },
  {
   "cell_type": "markdown",
   "metadata": {},
   "source": [
    "### Model Prediction "
   ]
  },
  {
   "cell_type": "markdown",
   "metadata": {},
   "source": [
    "Based on the above evaluation, the TfidfVectorizer with Logistic Regression model will be used for as the final prediction model."
   ]
  },
  {
   "cell_type": "code",
   "execution_count": 20,
   "metadata": {},
   "outputs": [],
   "source": [
    "# prediction to actual\n",
    "final_model = best_lr_tvec\n",
    "final_model.fit(X_train,y_train)\n",
    "preds = final_model.predict(X_test)"
   ]
  },
  {
   "cell_type": "code",
   "execution_count": 45,
   "metadata": {},
   "outputs": [
    {
     "data": {
      "text/html": [
       "<div>\n",
       "<style scoped>\n",
       "    .dataframe tbody tr th:only-of-type {\n",
       "        vertical-align: middle;\n",
       "    }\n",
       "\n",
       "    .dataframe tbody tr th {\n",
       "        vertical-align: top;\n",
       "    }\n",
       "\n",
       "    .dataframe thead th {\n",
       "        text-align: right;\n",
       "    }\n",
       "</style>\n",
       "<table border=\"1\" class=\"dataframe\">\n",
       "  <thead>\n",
       "    <tr style=\"text-align: right;\">\n",
       "      <th></th>\n",
       "      <th>true_values</th>\n",
       "      <th>preds_values</th>\n",
       "    </tr>\n",
       "  </thead>\n",
       "  <tbody>\n",
       "    <tr>\n",
       "      <th>8760</th>\n",
       "      <td>vegan</td>\n",
       "      <td>vegan</td>\n",
       "    </tr>\n",
       "    <tr>\n",
       "      <th>1690</th>\n",
       "      <td>vegan</td>\n",
       "      <td>vegan</td>\n",
       "    </tr>\n",
       "    <tr>\n",
       "      <th>3983</th>\n",
       "      <td>vegan</td>\n",
       "      <td>vegan</td>\n",
       "    </tr>\n",
       "    <tr>\n",
       "      <th>3444</th>\n",
       "      <td>vegan</td>\n",
       "      <td>vegan</td>\n",
       "    </tr>\n",
       "    <tr>\n",
       "      <th>4674</th>\n",
       "      <td>vegan</td>\n",
       "      <td>vegan</td>\n",
       "    </tr>\n",
       "    <tr>\n",
       "      <th>...</th>\n",
       "      <td>...</td>\n",
       "      <td>...</td>\n",
       "    </tr>\n",
       "    <tr>\n",
       "      <th>16166</th>\n",
       "      <td>keto</td>\n",
       "      <td>keto</td>\n",
       "    </tr>\n",
       "    <tr>\n",
       "      <th>17486</th>\n",
       "      <td>keto</td>\n",
       "      <td>keto</td>\n",
       "    </tr>\n",
       "    <tr>\n",
       "      <th>12908</th>\n",
       "      <td>keto</td>\n",
       "      <td>keto</td>\n",
       "    </tr>\n",
       "    <tr>\n",
       "      <th>13699</th>\n",
       "      <td>keto</td>\n",
       "      <td>keto</td>\n",
       "    </tr>\n",
       "    <tr>\n",
       "      <th>4867</th>\n",
       "      <td>vegan</td>\n",
       "      <td>vegan</td>\n",
       "    </tr>\n",
       "  </tbody>\n",
       "</table>\n",
       "<p>6214 rows × 2 columns</p>\n",
       "</div>"
      ],
      "text/plain": [
       "      true_values preds_values\n",
       "8760        vegan        vegan\n",
       "1690        vegan        vegan\n",
       "3983        vegan        vegan\n",
       "3444        vegan        vegan\n",
       "4674        vegan        vegan\n",
       "...           ...          ...\n",
       "16166        keto         keto\n",
       "17486        keto         keto\n",
       "12908        keto         keto\n",
       "13699        keto         keto\n",
       "4867        vegan        vegan\n",
       "\n",
       "[6214 rows x 2 columns]"
      ]
     },
     "execution_count": 45,
     "metadata": {},
     "output_type": "execute_result"
    }
   ],
   "source": [
    "#compare ytest and prediction\n",
    "pred_df = pd.DataFrame({'true_values': y_test,\n",
    "                        'preds_values': preds})\n",
    "\n",
    "pred_df"
   ]
  },
  {
   "cell_type": "markdown",
   "metadata": {},
   "source": [
    "## Evaluation of Model"
   ]
  },
  {
   "cell_type": "markdown",
   "metadata": {},
   "source": [
    "### Confusion Matrix"
   ]
  },
  {
   "cell_type": "markdown",
   "metadata": {},
   "source": [
    "Confusion Matrix helps to visualize the performance of the algorithm. We are interested in evaluation of the false positive and false negative counts.  "
   ]
  },
  {
   "cell_type": "code",
   "execution_count": 30,
   "metadata": {},
   "outputs": [],
   "source": [
    "cm = confusion_matrix(y_test, preds)"
   ]
  },
  {
   "cell_type": "code",
   "execution_count": 31,
   "metadata": {},
   "outputs": [],
   "source": [
    "tn,fp,fn,tp = confusion_matrix(y_test, preds).ravel()"
   ]
  },
  {
   "cell_type": "code",
   "execution_count": 32,
   "metadata": {},
   "outputs": [
    {
     "name": "stdout",
     "output_type": "stream",
     "text": [
      "True Negatives: 2831\n",
      "False Positives: 323\n",
      "False Negatives: 77\n",
      "True Positives: 2983\n"
     ]
    }
   ],
   "source": [
    "print(f'True Negatives: {tn}') #predict keto is keto\n",
    "print(f'False Positives: {fp}') #predict vegan but keto\n",
    "print(f'False Negatives: {fn}') #predict keto but vegan\n",
    "print(f'True Positives: {tp}') #predict vegan is vegan"
   ]
  },
  {
   "cell_type": "code",
   "execution_count": 44,
   "metadata": {
    "scrolled": false
   },
   "outputs": [
    {
     "data": {
      "image/png": "[encoded data removed]",
      "text/plain": [
       "<Figure size 720x720 with 2 Axes>"
      ]
     },
     "metadata": {
      "needs_background": "light"
     },
     "output_type": "display_data"
    }
   ],
   "source": [
    "fig, ax = plt.subplots(figsize=(10, 10))\n",
    "\n",
    "plot_confusion_matrix(final_model, X_test, y_test, cmap= 'Blues', \n",
    "                  values_format='d', ax=ax );\n",
    "plt.title('Confusion Matrix')\n",
    "plt.savefig('../images/Confusioon_Matrix.png')\n",
    "plt.show()\n"
   ]
  },
  {
   "cell_type": "markdown",
   "metadata": {},
   "source": [
    "*Interpretation: Higher prediction for vegan text, but is actually keto text (false positive) compared to prediction for keto text but is actually vegan text(false negative). This higher false positive may indicate that vegan diet has coincide keto diet.*"
   ]
  },
  {
   "cell_type": "code",
   "execution_count": 46,
   "metadata": {},
   "outputs": [
    {
     "name": "stdout",
     "output_type": "stream",
     "text": [
      "Sensitivity:  0.97\n",
      "Specificity:  0.9\n"
     ]
    }
   ],
   "source": [
    "print(\"Sensitivity: \", round(tp / (tp + fn),2))\n",
    "print(\"Specificity: \", round(tn / (tn + fp),2))"
   ]
  },
  {
   "cell_type": "code",
   "execution_count": 47,
   "metadata": {},
   "outputs": [
    {
     "name": "stdout",
     "output_type": "stream",
     "text": [
      "Accuracy:  0.94\n",
      "Misclassification:  0.06\n"
     ]
    }
   ],
   "source": [
    "print(\"Accuracy: \", round((tn + tp) / (tn + fp + tp + fn),2))\n",
    "print(\"Misclassification: \", round((1-(tn + tp) / (tn + fp + tp + fn)),2))"
   ]
  },
  {
   "cell_type": "markdown",
   "metadata": {},
   "source": [
    "The model has a high sensitivity and specificity indicating a balance model in the classification with minimum error on both false positive and false negative. The overall high accuracy at 94% is demonstrating a good model for classification of vegan vs keto. However, we will still investigate on the misclassification as our focus since we would like to look for the overlaps or keywords that has misled the model to classify otherwise."
   ]
  },
  {
   "cell_type": "markdown",
   "metadata": {},
   "source": [
    "### Misclassification"
   ]
  },
  {
   "cell_type": "markdown",
   "metadata": {},
   "source": [
    "The misclassification is reviewed to make inference on the reason behind the misclassification by the model."
   ]
  },
  {
   "cell_type": "markdown",
   "metadata": {},
   "source": [
    "#### False Positive"
   ]
  },
  {
   "cell_type": "code",
   "execution_count": 102,
   "metadata": {},
   "outputs": [
    {
     "name": "stdout",
     "output_type": "stream",
     "text": [
      "\u001b[1mText 1\u001b[0;0m\n",
      "Which is unhealthier gluten or dairy\n",
      "\n",
      "\u001b[1m\u001b[1mText 2\u001b[0;0m\u001b[0;0m\n",
      "Movie timeBetter than popcorn.\n",
      "\n",
      "Celery\n",
      "Carrots\n",
      "Dairy free ranch (for the kid)\n",
      "Salami trio\n",
      "Spinach dip \n",
      "Cheese with a coffee rub\n",
      "\n",
      "[yum!](https://imgur.com/gallery/iBtAFnt)\n",
      "\n",
      "I can’t believe that I haven’t thought of this before. Thank you everyone for your suggestions when I asked what to make for my daughters tea party. I did a sweet and turkey/cheese pinwheels. She loves it all.\n",
      "\n",
      "\u001b[1mText 3\u001b[0;0m\n",
      "SV, My BMI is OverweightThe last time my BMI was normal was college. I can't believe I'm actually that cliche. Since College for the most part I would hover between 235-245.\n",
      "\n",
      "Finally in my 30s, this week, I've gotten down to 218. (at 221 and 6' my BMI finally moves from the obese to the overweight category.)\n",
      "\n",
      "I'm not \"obese\" anymore. I know, I know, that BMI is a flawed system and you shouldn't based you health on it, but it is still nice that one less mode of human categorization would call me obese.\n",
      "\n",
      "I also know my body because I've been down to 173 as an adult. BMI is not totally off base when it comes to me and my normal muscle mass to fat ratio.\n",
      "\n",
      "Anyway, thanks for reading. Next stop, Onederland.\n"
     ]
    }
   ],
   "source": [
    "#create col for predicton analysis\n",
    "pred_df['success'] = np.where(pred_df['preds_values'] == pred_df['true_values'],1,0)\n",
    "\n",
    "#missclassification on fp and fn\n",
    "miss_vegan = pred_df[(pred_df.success == 0) & (pred_df.preds_values == 'vegan')]\n",
    "miss_keto = pred_df[(pred_df.success == 0)  & (pred_df.preds_values == 'keto')]\n",
    "\n",
    "#sampling a few false positive text where classification predicted as vegan but it is a keto text\n",
    "\n",
    "print('\\033[1mText 1\\033[0;0m')\n",
    "print(pd.DataFrame(combined.loc[miss_vegan.index])['text'][17505])\n",
    "print('\\n\\033[1m\\033[1mText 2\\033[0;0m\\033[0;0m')\n",
    "print(pd.DataFrame(combined.loc[miss_vegan.index])['text'][9672])\n",
    "print('\\n\\033[1mText 3\\033[0;0m')\n",
    "print(pd.DataFrame(combined.loc[miss_vegan.index])['text'][13515])"
   ]
  },
  {
   "cell_type": "markdown",
   "metadata": {},
   "source": [
    "**False Positive**\n",
    "Based on the above sampling text, this verifies our first observation during EDA, where the if the topic revolves around food, and recipes. However, in **Text 3** where the text consist of mostly weight loss journey were still misclassified. This will be further investigated as we review the top words of each classification."
   ]
  },
  {
   "cell_type": "markdown",
   "metadata": {},
   "source": [
    "#### False Negative"
   ]
  },
  {
   "cell_type": "code",
   "execution_count": 115,
   "metadata": {},
   "outputs": [
    {
     "name": "stdout",
     "output_type": "stream",
     "text": [
      "\n",
      "\u001b[1mText 4\u001b[0;0m\n",
      "First Week VeganSo I finally did it and changed my diet. I’m slowly adding different things to my meals, however, I didn’t have any meat or dairy this week and I feel exhausted. I’m a daily runner and just don’t have the same energy. Is this normal at first? Maybe I’m not getting enough calories or macro nutrients? I feel like I eat plenty, but maybe not. \n",
      "\n",
      "Any info would be helpful and thanks in advance!\n",
      "\n",
      "\u001b[1mText 5\u001b[0;0m\n",
      "ZHOU Spirulina \"Longevity Super Food\" Review &amp; Taste Test\n",
      "\n",
      "\u001b[1mText 6\u001b[0;0m\n",
      "I think too much bread was had today 🙈 how does anyone do keto 😅\n"
     ]
    }
   ],
   "source": [
    "#sampling a few false negative text where classification predicted as keto but it is a vegan text\n",
    "\n",
    "print('\\n\\033[1mText 4\\033[0;0m')\n",
    "print(pd.DataFrame(combined.loc[miss_keto.index])['text'][8105])\n",
    "print('\\n\\033[1mText 5\\033[0;0m')\n",
    "print(pd.DataFrame(combined.loc[miss_keto.index])['text'][4092])\n",
    "print('\\n\\033[1mText 6\\033[0;0m')\n",
    "print(pd.DataFrame(combined.loc[miss_keto.index])['text'][1717])"
   ]
  },
  {
   "cell_type": "markdown",
   "metadata": {},
   "source": [
    "**False Negative**\n",
    "Based on the above sample text, **Text 4** has *'vegan'* in the text but was still wrongly classified as *'keto'* whereas for **Text 5** has food description text, similar to the false positive errors, while **Text 6** is an interesting misclassification as it contains the keto as keyword. This insights also show that **vegan** redditers are also trying **keto** diets which begs the question that would keto-dietter embrace vegan lifestyle as well."
   ]
  },
  {
   "cell_type": "markdown",
   "metadata": {},
   "source": [
    "### Word Importance"
   ]
  },
  {
   "cell_type": "code",
   "execution_count": 96,
   "metadata": {},
   "outputs": [],
   "source": [
    "coef = best_lr_tvec.named_steps['lr'].coef_\n",
    "feature_names = best_lr_tvec.named_steps['tvec'].get_feature_names()\n",
    "word_importance = pd.Series(coef[0], feature_names).sort_values()"
   ]
  },
  {
   "cell_type": "code",
   "execution_count": 107,
   "metadata": {},
   "outputs": [
    {
     "data": {
      "text/plain": [
       "keto         -16.090898\n",
       "carb          -7.498172\n",
       "start         -4.353061\n",
       "ketosi        -4.261630\n",
       "weight        -4.198834\n",
       "fat           -4.008643\n",
       "keton         -3.641130\n",
       "lb            -3.552961\n",
       "pound         -3.260035\n",
       "week          -3.051808\n",
       "nsv           -2.996766\n",
       "sugar         -2.993026\n",
       "cheat         -2.966863\n",
       "fast          -2.719138\n",
       "macro         -2.700996\n",
       "loss          -2.646992\n",
       "ketogen       -2.612804\n",
       "day           -2.591592\n",
       "lost          -2.508440\n",
       "electrolyt    -2.490443\n",
       "dtype: float64"
      ]
     },
     "execution_count": 107,
     "metadata": {},
     "output_type": "execute_result"
    }
   ],
   "source": [
    "#keto\n",
    "word_importance.head(20)"
   ]
  },
  {
   "cell_type": "markdown",
   "metadata": {},
   "source": [
    "In coefficient with importance to **keto** is mainly itself (keto) and other relevant topics such as carb, weight, fat, nsv (Non Scale Victory), macro which are common terms relevant to keto diet journey. The reddit community have discussion on the new diet to try on with curiosity to find out more on how to succesfully complete the diet and lost weight fast."
   ]
  },
  {
   "cell_type": "code",
   "execution_count": 98,
   "metadata": {
    "scrolled": false
   },
   "outputs": [
    {
     "data": {
      "text/plain": [
       "yummi          1.538793\n",
       "ban            1.540183\n",
       "steak          1.553949\n",
       "soy            1.572888\n",
       "vegetarian     1.591618\n",
       "farm           1.659998\n",
       "ethic          1.680040\n",
       "pig            1.782741\n",
       "poll           1.789251\n",
       "seitan         1.870832\n",
       "human          2.041641\n",
       "dairi          2.166729\n",
       "milk           2.226061\n",
       "base           2.237990\n",
       "cow            2.283970\n",
       "tofu           2.895060\n",
       "meat           3.348006\n",
       "plant          3.883008\n",
       "anim           5.809236\n",
       "vegan         14.141978\n",
       "dtype: float64"
      ]
     },
     "execution_count": 98,
     "metadata": {},
     "output_type": "execute_result"
    }
   ],
   "source": [
    "#vegan\n",
    "word_importance.tail(20)"
   ]
  },
  {
   "cell_type": "markdown",
   "metadata": {},
   "source": [
    "Wheres for **vegan** subredditers,the keywords revolves around animal products, vegan diets, and discussion on the ethics of animal products consumption. The reddit community are awareness driven."
   ]
  },
  {
   "cell_type": "markdown",
   "metadata": {},
   "source": [
    "In retrospect to the false positive texts, we can understand the reason behind the misclassification.\n",
    "**Text 1** and  **Text 2**  consist of *dairy*  which are keywords to **vegan** reddits. \n",
    "**Text 3** consist of *human* which are keywords as well for **vegan** reddits.\n",
    "\n",
    "**Text 4** consist words *meat*, *dairy*, *calories* and *macro* which are keywords on both sides, that has tipped the favour for classification as **keto** instead of **vegan**.\n",
    "**Text 5** does not have any distinctive keywords except for *food* which does not have a strong coef on the classification.\n",
    "**Text 6** consist of *keto* as keyword. This shows that there are vegan-redditter trying out keto diets. "
   ]
  },
  {
   "cell_type": "markdown",
   "metadata": {},
   "source": [
    "## Conclusion & Recommendation"
   ]
  },
  {
   "cell_type": "code",
   "execution_count": null,
   "metadata": {},
   "outputs": [],
   "source": []
  },
  {
   "cell_type": "markdown",
   "metadata": {},
   "source": [
    "**Conclusion and Recommendations**\n",
    "- Does the student provide appropriate context to connect individual steps back to the overall project?\n",
    "- Is it clear how the final recommendations were reached?\n",
    "- Are the conclusions/recommendations clearly stated?\n",
    "- Does the conclusion answer the original problem statement?\n",
    "- Does the student address how findings of this research can be applied for the benefit of stakeholders?\n",
    "- Are future steps to move the project forward identified?"
   ]
  }
 ],
 "metadata": {
  "kernelspec": {
   "display_name": "Python 3",
   "language": "python",
   "name": "python3"
  },
  "language_info": {
   "codemirror_mode": {
    "name": "ipython",
    "version": 3
   },
   "file_extension": ".py",
   "mimetype": "text/x-python",
   "name": "python",
   "nbconvert_exporter": "python",
   "pygments_lexer": "ipython3",
   "version": "3.8.5"
  }
 },
 "nbformat": 4,
 "nbformat_minor": 4
}
