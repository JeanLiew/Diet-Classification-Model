{
 "cells": [
  {
   "cell_type": "markdown",
   "metadata": {},
   "source": [
    "# Diet Classification - Part 3"
   ]
  },
  {
   "cell_type": "markdown",
   "metadata": {},
   "source": [
    "Part 3 consist of the preprocessing and modelling of the combined datasets. Data extraction and EDA will be available in Part 1 and Part 2 respectively."
   ]
  },
  {
   "cell_type": "markdown",
   "metadata": {},
   "source": [
    "## Content"
   ]
  },
  {
   "cell_type": "markdown",
   "metadata": {},
   "source": [
    "- [Data Import](#Data-Import)\n",
    "- [Preprocessing and Modelling](#Preprocessing-and-Modelling)\n",
    "- [Cross-Over Review and Evaluation](#Crossover-Review-and-Evaluation)\n",
    "- [Conclusion and Recommendation](#Conclusion-&-Recommendation)"
   ]
  },
  {
   "cell_type": "markdown",
   "metadata": {},
   "source": [
    "## Data Import"
   ]
  },
  {
   "cell_type": "code",
   "execution_count": 1,
   "metadata": {},
   "outputs": [],
   "source": [
    "#import vanilla python\n",
    "import numpy as np\n",
    "import pandas as pd\n",
    "import seaborn as sns\n",
    "import matplotlib.pyplot as plt\n",
    "\n",
    "#import preprocessing library\n",
    "from sklearn.model_selection import train_test_split, GridSearchCV, cross_val_score\n",
    "from sklearn.pipeline import Pipeline\n",
    "from sklearn.naive_bayes import MultinomialNB\n",
    "from sklearn.linear_model import LogisticRegression\n",
    "from sklearn.metrics import confusion_matrix, plot_confusion_matrix, plot_roc_curve\n",
    "from sklearn.feature_extraction.text import CountVectorizer, TfidfVectorizer\n"
   ]
  },
  {
   "cell_type": "code",
   "execution_count": 2,
   "metadata": {},
   "outputs": [],
   "source": [
    "#Import combine datasets for cleaning\n",
    "combined = pd.read_csv('../data/combined_df')\n",
    "#set max row preview\n",
    "pd.set_option('display.max_column', 1000)"
   ]
  },
  {
   "cell_type": "code",
   "execution_count": 3,
   "metadata": {
    "scrolled": true
   },
   "outputs": [
    {
     "data": {
      "text/html": [
       "<div>\n",
       "<style scoped>\n",
       "    .dataframe tbody tr th:only-of-type {\n",
       "        vertical-align: middle;\n",
       "    }\n",
       "\n",
       "    .dataframe tbody tr th {\n",
       "        vertical-align: top;\n",
       "    }\n",
       "\n",
       "    .dataframe thead th {\n",
       "        text-align: right;\n",
       "    }\n",
       "</style>\n",
       "<table border=\"1\" class=\"dataframe\">\n",
       "  <thead>\n",
       "    <tr style=\"text-align: right;\">\n",
       "      <th></th>\n",
       "      <th>author</th>\n",
       "      <th>link_flair_text</th>\n",
       "      <th>num_comments</th>\n",
       "      <th>subreddit_subscribers</th>\n",
       "      <th>subreddit</th>\n",
       "      <th>text</th>\n",
       "      <th>post_datetime</th>\n",
       "      <th>date</th>\n",
       "      <th>hour</th>\n",
       "      <th>day</th>\n",
       "      <th>text_word_count</th>\n",
       "    </tr>\n",
       "  </thead>\n",
       "  <tbody>\n",
       "    <tr>\n",
       "      <th>0</th>\n",
       "      <td>Elise_93</td>\n",
       "      <td>Funny</td>\n",
       "      <td>0</td>\n",
       "      <td>590954</td>\n",
       "      <td>vegan</td>\n",
       "      <td>A summary of carnist logic about PETA:</td>\n",
       "      <td>2021-04-18 02:03:10</td>\n",
       "      <td>2021-04-18</td>\n",
       "      <td>2</td>\n",
       "      <td>18</td>\n",
       "      <td>7</td>\n",
       "    </tr>\n",
       "    <tr>\n",
       "      <th>1</th>\n",
       "      <td>SeviathanVonEldritch</td>\n",
       "      <td>Rant</td>\n",
       "      <td>0</td>\n",
       "      <td>590952</td>\n",
       "      <td>vegan</td>\n",
       "      <td>Underestimated it as well...</td>\n",
       "      <td>2021-04-18 01:57:56</td>\n",
       "      <td>2021-04-18</td>\n",
       "      <td>1</td>\n",
       "      <td>18</td>\n",
       "      <td>4</td>\n",
       "    </tr>\n",
       "    <tr>\n",
       "      <th>2</th>\n",
       "      <td>quidiuris</td>\n",
       "      <td>Uncategorised</td>\n",
       "      <td>0</td>\n",
       "      <td>590952</td>\n",
       "      <td>vegan</td>\n",
       "      <td>Hair conditioner bars - any recommendations?</td>\n",
       "      <td>2021-04-18 01:55:05</td>\n",
       "      <td>2021-04-18</td>\n",
       "      <td>1</td>\n",
       "      <td>18</td>\n",
       "      <td>6</td>\n",
       "    </tr>\n",
       "    <tr>\n",
       "      <th>3</th>\n",
       "      <td>lunanabiki</td>\n",
       "      <td>Uncategorised</td>\n",
       "      <td>0</td>\n",
       "      <td>590953</td>\n",
       "      <td>vegan</td>\n",
       "      <td>nonvegan logic that surprises me (that i haven...</td>\n",
       "      <td>2021-04-18 01:51:11</td>\n",
       "      <td>2021-04-18</td>\n",
       "      <td>1</td>\n",
       "      <td>18</td>\n",
       "      <td>12</td>\n",
       "    </tr>\n",
       "    <tr>\n",
       "      <th>4</th>\n",
       "      <td>pastelprincess1</td>\n",
       "      <td>Uncategorised</td>\n",
       "      <td>0</td>\n",
       "      <td>590953</td>\n",
       "      <td>vegan</td>\n",
       "      <td>Sustainable + Ethical Alternatives Directory</td>\n",
       "      <td>2021-04-18 01:50:06</td>\n",
       "      <td>2021-04-18</td>\n",
       "      <td>1</td>\n",
       "      <td>18</td>\n",
       "      <td>5</td>\n",
       "    </tr>\n",
       "  </tbody>\n",
       "</table>\n",
       "</div>"
      ],
      "text/plain": [
       "                 author link_flair_text  num_comments  subreddit_subscribers  \\\n",
       "0              Elise_93           Funny             0                 590954   \n",
       "1  SeviathanVonEldritch            Rant             0                 590952   \n",
       "2             quidiuris   Uncategorised             0                 590952   \n",
       "3            lunanabiki   Uncategorised             0                 590953   \n",
       "4       pastelprincess1   Uncategorised             0                 590953   \n",
       "\n",
       "  subreddit                                               text  \\\n",
       "0     vegan             A summary of carnist logic about PETA:   \n",
       "1     vegan                       Underestimated it as well...   \n",
       "2     vegan       Hair conditioner bars - any recommendations?   \n",
       "3     vegan  nonvegan logic that surprises me (that i haven...   \n",
       "4     vegan       Sustainable + Ethical Alternatives Directory   \n",
       "\n",
       "         post_datetime        date  hour  day  text_word_count  \n",
       "0  2021-04-18 02:03:10  2021-04-18     2   18                7  \n",
       "1  2021-04-18 01:57:56  2021-04-18     1   18                4  \n",
       "2  2021-04-18 01:55:05  2021-04-18     1   18                6  \n",
       "3  2021-04-18 01:51:11  2021-04-18     1   18               12  \n",
       "4  2021-04-18 01:50:06  2021-04-18     1   18                5  "
      ]
     },
     "execution_count": 3,
     "metadata": {},
     "output_type": "execute_result"
    }
   ],
   "source": [
    "combined.head()"
   ]
  },
  {
   "cell_type": "code",
   "execution_count": 4,
   "metadata": {},
   "outputs": [
    {
     "data": {
      "text/plain": [
       "author                   0\n",
       "link_flair_text          0\n",
       "num_comments             0\n",
       "subreddit_subscribers    0\n",
       "subreddit                0\n",
       "text                     0\n",
       "post_datetime            0\n",
       "date                     0\n",
       "hour                     0\n",
       "day                      0\n",
       "text_word_count          0\n",
       "dtype: int64"
      ]
     },
     "execution_count": 4,
     "metadata": {},
     "output_type": "execute_result"
    }
   ],
   "source": [
    "#checking to ensure no null value\n",
    "combined.isna().sum()"
   ]
  },
  {
   "cell_type": "markdown",
   "metadata": {},
   "source": [
    "## Preprocessing and Modelling"
   ]
  },
  {
   "cell_type": "markdown",
   "metadata": {},
   "source": [
    "In the preprocessing, we will start with dissecting the text table to remove special characters, like emojis, and digits which will not be critical to the this context. The words will also be filtered on the stop words before modelling."
   ]
  },
  {
   "cell_type": "markdown",
   "metadata": {},
   "source": [
    "### Removing special characters and text processing"
   ]
  },
  {
   "cell_type": "code",
   "execution_count": 13,
   "metadata": {},
   "outputs": [],
   "source": [
    "#import tokenization library\n",
    "import nltk\n",
    "from nltk.tokenize import RegexpTokenizer\n",
    "from nltk.stem import WordNetLemmatizer\n",
    "from nltk.corpus import stopwords\n",
    "from nltk.stem.porter import PorterStemmer\n",
    "\n",
    "import re"
   ]
  },
  {
   "cell_type": "code",
   "execution_count": 14,
   "metadata": {},
   "outputs": [],
   "source": [
    "#define tokenizer\n",
    "def clean_text(words):\n",
    "    \"\"\"input for words/text in string to remove special characters\"\"\"\n",
    "    #lowercase words\n",
    "    words = words.lower()\n",
    "    \n",
    "    #remove other words/digit/special character\n",
    "    tokenizer = RegexpTokenizer(r'[a-z]+')\n",
    "    words = tokenizer.tokenize(words)\n",
    "    \n",
    "    #stem/lemmatize\n",
    "    lemmatizer = WordNetLemmatizer()\n",
    "    words = [lemmatizer.lemmatize(word) for word in words]\n",
    "    \n",
    "    stemmer = PorterStemmer()\n",
    "    words = [stemmer.stem(word) for word in words]\n",
    "    \n",
    "    #remove stopwords\n",
    "    words = [word for word in words if word not in stopwords.words('english')]\n",
    "    \n",
    "    return ' '.join(words)"
   ]
  },
  {
   "cell_type": "code",
   "execution_count": 19,
   "metadata": {},
   "outputs": [],
   "source": [
    "#apply function to clean text\n",
    "cleaned_text  = combined['text'].apply(clean_text)"
   ]
  },
  {
   "cell_type": "code",
   "execution_count": 20,
   "metadata": {},
   "outputs": [],
   "source": [
    "#add col for cleaned text\n",
    "combined['cleaned_text'] = cleaned_text"
   ]
  },
  {
   "cell_type": "code",
   "execution_count": 21,
   "metadata": {
    "scrolled": true
   },
   "outputs": [
    {
     "data": {
      "text/plain": [
       "author                   0\n",
       "link_flair_text          0\n",
       "num_comments             0\n",
       "subreddit_subscribers    0\n",
       "subreddit                0\n",
       "text                     0\n",
       "post_datetime            0\n",
       "date                     0\n",
       "hour                     0\n",
       "day                      0\n",
       "text_word_count          0\n",
       "cleaned_text             0\n",
       "dtype: int64"
      ]
     },
     "execution_count": 21,
     "metadata": {},
     "output_type": "execute_result"
    }
   ],
   "source": [
    "#checking sanity of data\n",
    "combined.isnull().sum()"
   ]
  },
  {
   "cell_type": "code",
   "execution_count": 29,
   "metadata": {},
   "outputs": [],
   "source": [
    "#drop empty cleaned_text\n",
    "combined = combined[combined.cleaned_text != '']"
   ]
  },
  {
   "cell_type": "markdown",
   "metadata": {},
   "source": [
    "### Modelling"
   ]
  },
  {
   "cell_type": "markdown",
   "metadata": {},
   "source": [
    "Naives Bayes and Logistic Regression model will be employed for this classification model. These results will be processed through CountVectoriser and TfidfVectoriser to observed the best model pairing of prediction. The best model will then be used for final prediction. The models will be evaluated based on accuracy score. In this problem statement, we are looking for text keywords that may lead us to derive a better understanding on the keto-redditers to market vegan products better."
   ]
  },
  {
   "cell_type": "markdown",
   "metadata": {},
   "source": [
    "### Baseline Model"
   ]
  },
  {
   "cell_type": "code",
   "execution_count": 31,
   "metadata": {},
   "outputs": [
    {
     "data": {
      "text/html": [
       "<div>\n",
       "<style scoped>\n",
       "    .dataframe tbody tr th:only-of-type {\n",
       "        vertical-align: middle;\n",
       "    }\n",
       "\n",
       "    .dataframe tbody tr th {\n",
       "        vertical-align: top;\n",
       "    }\n",
       "\n",
       "    .dataframe thead th {\n",
       "        text-align: right;\n",
       "    }\n",
       "</style>\n",
       "<table border=\"1\" class=\"dataframe\">\n",
       "  <thead>\n",
       "    <tr style=\"text-align: right;\">\n",
       "      <th></th>\n",
       "      <th>author</th>\n",
       "      <th>link_flair_text</th>\n",
       "      <th>num_comments</th>\n",
       "      <th>subreddit_subscribers</th>\n",
       "      <th>subreddit</th>\n",
       "      <th>text</th>\n",
       "      <th>post_datetime</th>\n",
       "      <th>date</th>\n",
       "      <th>hour</th>\n",
       "      <th>day</th>\n",
       "      <th>text_word_count</th>\n",
       "      <th>cleaned_text</th>\n",
       "    </tr>\n",
       "  </thead>\n",
       "  <tbody>\n",
       "    <tr>\n",
       "      <th>0</th>\n",
       "      <td>Elise_93</td>\n",
       "      <td>Funny</td>\n",
       "      <td>0</td>\n",
       "      <td>590954</td>\n",
       "      <td>vegan</td>\n",
       "      <td>A summary of carnist logic about PETA:</td>\n",
       "      <td>2021-04-18 02:03:10</td>\n",
       "      <td>2021-04-18</td>\n",
       "      <td>2</td>\n",
       "      <td>18</td>\n",
       "      <td>7</td>\n",
       "      <td>summari carnist logic peta</td>\n",
       "    </tr>\n",
       "    <tr>\n",
       "      <th>1</th>\n",
       "      <td>SeviathanVonEldritch</td>\n",
       "      <td>Rant</td>\n",
       "      <td>0</td>\n",
       "      <td>590952</td>\n",
       "      <td>vegan</td>\n",
       "      <td>Underestimated it as well...</td>\n",
       "      <td>2021-04-18 01:57:56</td>\n",
       "      <td>2021-04-18</td>\n",
       "      <td>1</td>\n",
       "      <td>18</td>\n",
       "      <td>4</td>\n",
       "      <td>underestim well</td>\n",
       "    </tr>\n",
       "    <tr>\n",
       "      <th>2</th>\n",
       "      <td>quidiuris</td>\n",
       "      <td>Uncategorised</td>\n",
       "      <td>0</td>\n",
       "      <td>590952</td>\n",
       "      <td>vegan</td>\n",
       "      <td>Hair conditioner bars - any recommendations?</td>\n",
       "      <td>2021-04-18 01:55:05</td>\n",
       "      <td>2021-04-18</td>\n",
       "      <td>1</td>\n",
       "      <td>18</td>\n",
       "      <td>6</td>\n",
       "      <td>hair condition bar ani recommend</td>\n",
       "    </tr>\n",
       "    <tr>\n",
       "      <th>3</th>\n",
       "      <td>lunanabiki</td>\n",
       "      <td>Uncategorised</td>\n",
       "      <td>0</td>\n",
       "      <td>590953</td>\n",
       "      <td>vegan</td>\n",
       "      <td>nonvegan logic that surprises me (that i haven...</td>\n",
       "      <td>2021-04-18 01:51:11</td>\n",
       "      <td>2021-04-18</td>\n",
       "      <td>1</td>\n",
       "      <td>18</td>\n",
       "      <td>12</td>\n",
       "      <td>nonvegan logic surpris seen yet</td>\n",
       "    </tr>\n",
       "    <tr>\n",
       "      <th>4</th>\n",
       "      <td>pastelprincess1</td>\n",
       "      <td>Uncategorised</td>\n",
       "      <td>0</td>\n",
       "      <td>590953</td>\n",
       "      <td>vegan</td>\n",
       "      <td>Sustainable + Ethical Alternatives Directory</td>\n",
       "      <td>2021-04-18 01:50:06</td>\n",
       "      <td>2021-04-18</td>\n",
       "      <td>1</td>\n",
       "      <td>18</td>\n",
       "      <td>5</td>\n",
       "      <td>sustain ethic altern directori</td>\n",
       "    </tr>\n",
       "  </tbody>\n",
       "</table>\n",
       "</div>"
      ],
      "text/plain": [
       "                 author link_flair_text  num_comments  subreddit_subscribers  \\\n",
       "0              Elise_93           Funny             0                 590954   \n",
       "1  SeviathanVonEldritch            Rant             0                 590952   \n",
       "2             quidiuris   Uncategorised             0                 590952   \n",
       "3            lunanabiki   Uncategorised             0                 590953   \n",
       "4       pastelprincess1   Uncategorised             0                 590953   \n",
       "\n",
       "  subreddit                                               text  \\\n",
       "0     vegan             A summary of carnist logic about PETA:   \n",
       "1     vegan                       Underestimated it as well...   \n",
       "2     vegan       Hair conditioner bars - any recommendations?   \n",
       "3     vegan  nonvegan logic that surprises me (that i haven...   \n",
       "4     vegan       Sustainable + Ethical Alternatives Directory   \n",
       "\n",
       "         post_datetime        date  hour  day  text_word_count  \\\n",
       "0  2021-04-18 02:03:10  2021-04-18     2   18                7   \n",
       "1  2021-04-18 01:57:56  2021-04-18     1   18                4   \n",
       "2  2021-04-18 01:55:05  2021-04-18     1   18                6   \n",
       "3  2021-04-18 01:51:11  2021-04-18     1   18               12   \n",
       "4  2021-04-18 01:50:06  2021-04-18     1   18                5   \n",
       "\n",
       "                       cleaned_text  \n",
       "0        summari carnist logic peta  \n",
       "1                   underestim well  \n",
       "2  hair condition bar ani recommend  \n",
       "3   nonvegan logic surpris seen yet  \n",
       "4    sustain ethic altern directori  "
      ]
     },
     "execution_count": 31,
     "metadata": {},
     "output_type": "execute_result"
    }
   ],
   "source": [
    "combined.head()"
   ]
  },
  {
   "cell_type": "code",
   "execution_count": 32,
   "metadata": {},
   "outputs": [],
   "source": [
    "#define feature and target \n",
    "\n",
    "X = combined['cleaned_text']\n",
    "y = combined['subreddit']"
   ]
  },
  {
   "cell_type": "code",
   "execution_count": 33,
   "metadata": {},
   "outputs": [
    {
     "data": {
      "text/plain": [
       "keto     0.50893\n",
       "vegan    0.49107\n",
       "Name: subreddit, dtype: float64"
      ]
     },
     "execution_count": 33,
     "metadata": {},
     "output_type": "execute_result"
    }
   ],
   "source": [
    "#check proportion of both reddits\n",
    "y.value_counts(normalize = True)"
   ]
  },
  {
   "cell_type": "code",
   "execution_count": 34,
   "metadata": {},
   "outputs": [
    {
     "name": "stdout",
     "output_type": "stream",
     "text": [
      "Baseline Accuracy: 0.509\n"
     ]
    }
   ],
   "source": [
    "baseline = round(y.value_counts(normalize = True),3).values.max()\n",
    "print(f'Baseline Accuracy: {baseline}')"
   ]
  },
  {
   "cell_type": "markdown",
   "metadata": {},
   "source": [
    "The datasets in general are considered balance dataset. \n",
    "The above is the baseline model of accuracy 0.508 and our model is expected to outperform this score. "
   ]
  },
  {
   "cell_type": "code",
   "execution_count": 35,
   "metadata": {},
   "outputs": [],
   "source": [
    "#Train Test Split \n",
    "X_train, X_test, y_train, y_test = train_test_split(X, y, \n",
    "                                                    stratify = y, \n",
    "                                                    test_size= 0.33, \n",
    "                                                    random_state=42)"
   ]
  },
  {
   "cell_type": "markdown",
   "metadata": {},
   "source": [
    "### Logistic Regression"
   ]
  },
  {
   "cell_type": "markdown",
   "metadata": {},
   "source": [
    "#### Count Vectorization"
   ]
  },
  {
   "cell_type": "code",
   "execution_count": 36,
   "metadata": {},
   "outputs": [
    {
     "name": "stdout",
     "output_type": "stream",
     "text": [
      "Training Accuracy:  0.971830985915493\n",
      "Testing Accuracy:  0.9366720516962843\n",
      "\n",
      "\n"
     ]
    },
    {
     "data": {
      "text/plain": [
       "{'cvec__max_df': 0.8,\n",
       " 'cvec__max_features': 8500,\n",
       " 'cvec__min_df': 3,\n",
       " 'cvec__ngram_range': (1, 2),\n",
       " 'lr__C': 1,\n",
       " 'lr__penalty': 'l2'}"
      ]
     },
     "execution_count": 36,
     "metadata": {},
     "output_type": "execute_result"
    }
   ],
   "source": [
    "pipe = Pipeline([\n",
    "    ('cvec', CountVectorizer()),\n",
    "    ('lr', LogisticRegression(solver='liblinear', max_iter=200, random_state=42))\n",
    "])\n",
    "\n",
    "pipe_params = {\n",
    "    'cvec__max_features': [8000, 8500],\n",
    "    'cvec__max_df': [0.8, 0.85],\n",
    "    'cvec__min_df': [2, 3],\n",
    "    'cvec__ngram_range': [(1,1), (1,2)],\n",
    "    'lr__penalty': ['l1', 'l2'],\n",
    "    'lr__C': [1, 0.1]\n",
    "}\n",
    "\n",
    "gs = GridSearchCV(pipe, pipe_params, cv=5, n_jobs=-1)\n",
    "gs.fit(X_train, y_train)\n",
    "best_lr_cvec = gs.best_estimator_\n",
    "print('Training Accuracy: ', best_lr_cvec.score(X_train, y_train))\n",
    "print('Testing Accuracy: ', best_lr_cvec.score(X_test, y_test))\n",
    "print('\\n')\n",
    "gs.best_params_"
   ]
  },
  {
   "cell_type": "markdown",
   "metadata": {},
   "source": [
    "#### Tfidf Vectorization"
   ]
  },
  {
   "cell_type": "code",
   "execution_count": 37,
   "metadata": {},
   "outputs": [
    {
     "name": "stdout",
     "output_type": "stream",
     "text": [
      "Training Accuracy:  0.959337948595528\n",
      "Testing Accuracy:  0.9408723747980614\n",
      "\n",
      "\n"
     ]
    },
    {
     "data": {
      "text/plain": [
       "{'lr__C': 1,\n",
       " 'lr__penalty': 'l2',\n",
       " 'tvec__max_df': 0.7,\n",
       " 'tvec__max_features': 8000,\n",
       " 'tvec__min_df': 2,\n",
       " 'tvec__ngram_range': (1, 2)}"
      ]
     },
     "execution_count": 37,
     "metadata": {},
     "output_type": "execute_result"
    }
   ],
   "source": [
    "pipe = Pipeline([\n",
    "    ('tvec', TfidfVectorizer()),\n",
    "    ('lr', LogisticRegression(solver='liblinear', max_iter=200, random_state=42))\n",
    "])\n",
    "\n",
    "pipe_params = {\n",
    "    'tvec__max_features': [8000, 8500],\n",
    "    'tvec__max_df': [0.7, 0.8],\n",
    "    'tvec__min_df': [2, 3],\n",
    "    'tvec__ngram_range': [(1,1), (1,2)],\n",
    "    'lr__penalty': ['l1', 'l2'],\n",
    "    'lr__C': [1, 0.1]\n",
    "}\n",
    "\n",
    "gs = GridSearchCV(pipe, pipe_params, cv=5, n_jobs=-1)\n",
    "gs.fit(X_train, y_train)\n",
    "best_lr_tvec = gs.best_estimator_\n",
    "print('Training Accuracy: ', best_lr_tvec.score(X_train, y_train))\n",
    "print('Testing Accuracy: ', best_lr_tvec.score(X_test, y_test))\n",
    "print('\\n')\n",
    "gs.best_params_"
   ]
  },
  {
   "cell_type": "markdown",
   "metadata": {},
   "source": [
    "### Naive Bayes"
   ]
  },
  {
   "cell_type": "markdown",
   "metadata": {},
   "source": [
    "#### Count Vectorization"
   ]
  },
  {
   "cell_type": "code",
   "execution_count": 38,
   "metadata": {},
   "outputs": [
    {
     "name": "stdout",
     "output_type": "stream",
     "text": [
      "Training Accuracy:  0.9337948595527971\n",
      "Testing Accuracy:  0.9187399030694668\n",
      "\n",
      "\n"
     ]
    },
    {
     "data": {
      "text/plain": [
       "{'cvec__max_df': 0.4,\n",
       " 'cvec__max_features': 8000,\n",
       " 'cvec__min_df': 2,\n",
       " 'cvec__ngram_range': (1, 1),\n",
       " 'nb__alpha': 0.6326530612244897}"
      ]
     },
     "execution_count": 38,
     "metadata": {},
     "output_type": "execute_result"
    }
   ],
   "source": [
    "pipe = Pipeline([\n",
    "    ('cvec', CountVectorizer()),\n",
    "    ('nb', MultinomialNB())\n",
    "])\n",
    "\n",
    "pipe_params = {\n",
    "    'cvec__max_features': [8000, 9000],\n",
    "    'cvec__max_df': [0.3, 0.4],\n",
    "    'cvec__min_df': [2, 3],\n",
    "    'cvec__ngram_range': [(1,1), (1,2)],\n",
    "    'nb__alpha': np.linspace(0, 1)\n",
    "}\n",
    "\n",
    "gs = GridSearchCV(pipe, pipe_params, cv=5, n_jobs=-1)\n",
    "gs.fit(X_train, y_train)\n",
    "best_nb_cvec = gs.best_estimator_\n",
    "print('Training Accuracy: ', best_nb_cvec.score(X_train, y_train))\n",
    "print('Testing Accuracy: ', best_nb_cvec.score(X_test, y_test))\n",
    "print('\\n')\n",
    "gs.best_params_"
   ]
  },
  {
   "cell_type": "markdown",
   "metadata": {},
   "source": [
    "#### Tfidf Vectorization"
   ]
  },
  {
   "cell_type": "code",
   "execution_count": 39,
   "metadata": {},
   "outputs": [
    {
     "name": "stdout",
     "output_type": "stream",
     "text": [
      "Training Accuracy:  0.9325216837749661\n",
      "Testing Accuracy:  0.9159935379644588\n",
      "\n",
      "\n"
     ]
    },
    {
     "data": {
      "text/plain": [
       "{'nb__alpha': 1.0,\n",
       " 'tvec__max_df': 0.4,\n",
       " 'tvec__max_features': 8500,\n",
       " 'tvec__min_df': 2,\n",
       " 'tvec__ngram_range': (1, 2)}"
      ]
     },
     "execution_count": 39,
     "metadata": {},
     "output_type": "execute_result"
    }
   ],
   "source": [
    "pipe = Pipeline([\n",
    "    ('tvec', TfidfVectorizer()),\n",
    "    ('nb', MultinomialNB())\n",
    "])\n",
    "\n",
    "pipe_params = {\n",
    "    'tvec__max_features': [8000, 8500],\n",
    "    'tvec__max_df': [0.4, 0.5],\n",
    "    'tvec__min_df': [2, 3],\n",
    "    'tvec__ngram_range': [(1,1), (1,2)],\n",
    "    'nb__alpha': np.linspace(0, 1)\n",
    "}\n",
    "\n",
    "gs = GridSearchCV(pipe, pipe_params, cv=5, n_jobs=-1)\n",
    "gs.fit(X_train, y_train)\n",
    "best_nb_tvec = gs.best_estimator_\n",
    "print('Training Accuracy: ', best_nb_tvec.score(X_train, y_train))\n",
    "print('Testing Accuracy: ', best_nb_tvec.score(X_test, y_test))\n",
    "print('\\n')\n",
    "gs.best_params_"
   ]
  },
  {
   "cell_type": "code",
   "execution_count": 40,
   "metadata": {},
   "outputs": [
    {
     "data": {
      "text/html": [
       "<div>\n",
       "<style scoped>\n",
       "    .dataframe tbody tr th:only-of-type {\n",
       "        vertical-align: middle;\n",
       "    }\n",
       "\n",
       "    .dataframe tbody tr th {\n",
       "        vertical-align: top;\n",
       "    }\n",
       "\n",
       "    .dataframe thead th {\n",
       "        text-align: right;\n",
       "    }\n",
       "</style>\n",
       "<table border=\"1\" class=\"dataframe\">\n",
       "  <thead>\n",
       "    <tr style=\"text-align: right;\">\n",
       "      <th></th>\n",
       "      <th>Model</th>\n",
       "      <th>Vectorizer</th>\n",
       "      <th>Training Accuracy</th>\n",
       "      <th>Test Accuracy</th>\n",
       "    </tr>\n",
       "  </thead>\n",
       "  <tbody>\n",
       "    <tr>\n",
       "      <th>0</th>\n",
       "      <td>Baseline</td>\n",
       "      <td></td>\n",
       "      <td>0.509000</td>\n",
       "      <td></td>\n",
       "    </tr>\n",
       "    <tr>\n",
       "      <th>1</th>\n",
       "      <td>Logistic Regression</td>\n",
       "      <td>CountVectorizer</td>\n",
       "      <td>0.971831</td>\n",
       "      <td>0.936672</td>\n",
       "    </tr>\n",
       "    <tr>\n",
       "      <th>2</th>\n",
       "      <td>Logistic Regression</td>\n",
       "      <td>TfidfVectorizer</td>\n",
       "      <td>0.959338</td>\n",
       "      <td>0.940872</td>\n",
       "    </tr>\n",
       "    <tr>\n",
       "      <th>3</th>\n",
       "      <td>Naives Bayes</td>\n",
       "      <td>CountVectorizer</td>\n",
       "      <td>0.933795</td>\n",
       "      <td>0.91874</td>\n",
       "    </tr>\n",
       "    <tr>\n",
       "      <th>4</th>\n",
       "      <td>Naives Bayes</td>\n",
       "      <td>TfidfVectorizer</td>\n",
       "      <td>0.932522</td>\n",
       "      <td>0.915994</td>\n",
       "    </tr>\n",
       "  </tbody>\n",
       "</table>\n",
       "</div>"
      ],
      "text/plain": [
       "                 Model       Vectorizer  Training Accuracy Test Accuracy\n",
       "0             Baseline                            0.509000              \n",
       "1  Logistic Regression  CountVectorizer           0.971831      0.936672\n",
       "2  Logistic Regression  TfidfVectorizer           0.959338      0.940872\n",
       "3         Naives Bayes  CountVectorizer           0.933795       0.91874\n",
       "4         Naives Bayes  TfidfVectorizer           0.932522      0.915994"
      ]
     },
     "execution_count": 40,
     "metadata": {},
     "output_type": "execute_result"
    }
   ],
   "source": [
    "#display result in dataframe\n",
    "model_df = pd.DataFrame({\n",
    "    'Model' :['Baseline','Logistic Regression','Logistic Regression','Naives Bayes','Naives Bayes'],\n",
    "    'Vectorizer' :['','CountVectorizer','TfidfVectorizer','CountVectorizer','TfidfVectorizer'],\n",
    "    'Training Accuracy' : [baseline, best_lr_cvec.score(X_train, y_train), best_lr_tvec.score(X_train, y_train), \n",
    "                           best_nb_cvec.score(X_train, y_train), best_nb_tvec.score(X_train, y_train)],\n",
    "    'Test Accuracy' : ['' , best_lr_cvec.score(X_test, y_test), best_lr_tvec.score(X_test, y_test), \n",
    "                       best_nb_cvec.score(X_test, y_test), best_nb_tvec.score(X_test, y_test)]\n",
    "})\n",
    "\n",
    "model_df"
   ]
  },
  {
   "cell_type": "markdown",
   "metadata": {},
   "source": [
    "All four models have performed far better than the baseline model, which is 0.508. All four models are scoring above 0.90. \n",
    "\n",
    "After hyperparameter tuning, from the above table, the best model pairing is Logistic Regression with TfidfVectorizer. The training score and test score are optimized with smaller difference in both train and test score. The possible reason for the high accuracy is likely contributed from the obvious keywords, which we will investigate in later stage. "
   ]
  },
  {
   "cell_type": "markdown",
   "metadata": {},
   "source": [
    "### Model Selection and Prediction "
   ]
  },
  {
   "cell_type": "markdown",
   "metadata": {},
   "source": [
    "Based on the above evaluation, the TfidfVectorizer with Logistic Regression model will be used for as the final prediction model. The full dataset will be used for to evaluate the accuracy score of the classification model."
   ]
  },
  {
   "cell_type": "code",
   "execution_count": 41,
   "metadata": {},
   "outputs": [],
   "source": [
    "# prediction to actual\n",
    "final_model = best_lr_tvec\n",
    "final_model.fit(X_train,y_train)\n",
    "preds = final_model.predict(X)"
   ]
  },
  {
   "cell_type": "code",
   "execution_count": 42,
   "metadata": {},
   "outputs": [
    {
     "data": {
      "text/html": [
       "<div>\n",
       "<style scoped>\n",
       "    .dataframe tbody tr th:only-of-type {\n",
       "        vertical-align: middle;\n",
       "    }\n",
       "\n",
       "    .dataframe tbody tr th {\n",
       "        vertical-align: top;\n",
       "    }\n",
       "\n",
       "    .dataframe thead th {\n",
       "        text-align: right;\n",
       "    }\n",
       "</style>\n",
       "<table border=\"1\" class=\"dataframe\">\n",
       "  <thead>\n",
       "    <tr style=\"text-align: right;\">\n",
       "      <th></th>\n",
       "      <th>true_values</th>\n",
       "      <th>preds_values</th>\n",
       "    </tr>\n",
       "  </thead>\n",
       "  <tbody>\n",
       "    <tr>\n",
       "      <th>0</th>\n",
       "      <td>vegan</td>\n",
       "      <td>vegan</td>\n",
       "    </tr>\n",
       "    <tr>\n",
       "      <th>1</th>\n",
       "      <td>vegan</td>\n",
       "      <td>vegan</td>\n",
       "    </tr>\n",
       "    <tr>\n",
       "      <th>2</th>\n",
       "      <td>vegan</td>\n",
       "      <td>keto</td>\n",
       "    </tr>\n",
       "    <tr>\n",
       "      <th>3</th>\n",
       "      <td>vegan</td>\n",
       "      <td>vegan</td>\n",
       "    </tr>\n",
       "    <tr>\n",
       "      <th>4</th>\n",
       "      <td>vegan</td>\n",
       "      <td>vegan</td>\n",
       "    </tr>\n",
       "  </tbody>\n",
       "</table>\n",
       "</div>"
      ],
      "text/plain": [
       "  true_values preds_values\n",
       "0       vegan        vegan\n",
       "1       vegan        vegan\n",
       "2       vegan         keto\n",
       "3       vegan        vegan\n",
       "4       vegan        vegan"
      ]
     },
     "execution_count": 42,
     "metadata": {},
     "output_type": "execute_result"
    }
   ],
   "source": [
    "#compare ytest and prediction\n",
    "pred_df = pd.DataFrame({'true_values': y,\n",
    "                        'preds_values': preds})\n",
    "\n",
    "pred_df.head()"
   ]
  },
  {
   "cell_type": "markdown",
   "metadata": {},
   "source": [
    "## Evaluation of Model"
   ]
  },
  {
   "cell_type": "markdown",
   "metadata": {},
   "source": [
    "### Confusion Matrix"
   ]
  },
  {
   "cell_type": "markdown",
   "metadata": {},
   "source": [
    "Confusion Matrix helps to visualize the performance of the algorithm. We are interested in evaluation of the false positive and false negative counts.  "
   ]
  },
  {
   "cell_type": "code",
   "execution_count": 43,
   "metadata": {},
   "outputs": [],
   "source": [
    "cm = confusion_matrix(y, preds)"
   ]
  },
  {
   "cell_type": "code",
   "execution_count": 44,
   "metadata": {},
   "outputs": [],
   "source": [
    "tn,fp,fn,tp = confusion_matrix(y, preds).ravel()"
   ]
  },
  {
   "cell_type": "code",
   "execution_count": 45,
   "metadata": {},
   "outputs": [
    {
     "name": "stdout",
     "output_type": "stream",
     "text": [
      "True Negatives: 8899\n",
      "False Positives: 647\n",
      "False Negatives: 230\n",
      "True Positives: 8981\n"
     ]
    }
   ],
   "source": [
    "print(f'True Negatives: {tn}') #predict keto is keto\n",
    "print(f'False Positives: {fp}') #predict vegan but keto\n",
    "print(f'False Negatives: {fn}') #predict keto but vegan\n",
    "print(f'True Positives: {tp}') #predict vegan is vegan"
   ]
  },
  {
   "cell_type": "code",
   "execution_count": 46,
   "metadata": {
    "scrolled": false
   },
   "outputs": [
    {
     "data": {
      "image/png": "[encoded data removed]",
      "text/plain": [
       "<Figure size 576x576 with 2 Axes>"
      ]
     },
     "metadata": {
      "needs_background": "light"
     },
     "output_type": "display_data"
    }
   ],
   "source": [
    "fig, ax = plt.subplots(figsize=(8, 8))\n",
    "plt.rcParams.update({'font.size': 20})\n",
    "plot_confusion_matrix(final_model, X, y, cmap= 'Blues', \n",
    "                  values_format='d', ax=ax );\n",
    "plt.title('Confusion Matrix')\n",
    "plt.savefig('../images/Confusion_Matrix.png')\n",
    "plt.show()\n"
   ]
  },
  {
   "cell_type": "markdown",
   "metadata": {},
   "source": [
    "*Interpretation: Higher prediction for vegan text, but is actually keto text (false positive) compared to prediction for keto text but is actually vegan text(false negative). This higher false positive may indicate that vegan diet has coincide keto diet.*"
   ]
  },
  {
   "cell_type": "code",
   "execution_count": 47,
   "metadata": {},
   "outputs": [
    {
     "name": "stdout",
     "output_type": "stream",
     "text": [
      "Sensitivity:  0.98\n",
      "Specificity:  0.93\n",
      "Precision: 0.93\n"
     ]
    }
   ],
   "source": [
    "print(\"Sensitivity: \", round(tp / (tp + fn),2))\n",
    "print(\"Specificity: \", round(tn / (tn + fp),2))\n",
    "print(\"Precision:\", round(tp/(fp+tp),2))"
   ]
  },
  {
   "cell_type": "code",
   "execution_count": 48,
   "metadata": {},
   "outputs": [
    {
     "name": "stdout",
     "output_type": "stream",
     "text": [
      "Accuracy:  0.95\n",
      "Misclassification:  0.05\n"
     ]
    }
   ],
   "source": [
    "print(\"Accuracy: \", round((tn + tp) / (tn + fp + tp + fn),2))\n",
    "print(\"Misclassification: \", round((1-(tn + tp) / (tn + fp + tp + fn)),2))"
   ]
  },
  {
   "cell_type": "markdown",
   "metadata": {},
   "source": [
    "The model has a high sensitivity and specificity indicating a balance model in the classification with minimum error on both false positive and false negative. The overall high accuracy at 94% is demonstrating a good model for classification of vegan vs keto. However, we will still investigate on the misclassification as our focus since we would like to look for the overlaps or keywords that has misled the model to classify otherwise."
   ]
  },
  {
   "cell_type": "markdown",
   "metadata": {},
   "source": [
    "### Misclassification"
   ]
  },
  {
   "cell_type": "markdown",
   "metadata": {},
   "source": [
    "The misclassification is reviewed to make inference on the reason behind the misclassification by the model."
   ]
  },
  {
   "cell_type": "markdown",
   "metadata": {},
   "source": [
    "#### False Positive"
   ]
  },
  {
   "cell_type": "code",
   "execution_count": 61,
   "metadata": {},
   "outputs": [
    {
     "name": "stdout",
     "output_type": "stream",
     "text": [
      "\u001b[1mFalse Positive Sample Text\u001b[0;0m\n",
      "[\"Origin Story Hey, guys. New to reddit and all that jazz, so I'm tryin to build up some karma to contribute to the conversation. If you could throw me some tips or topics to delve into, I'm considering looking into [r/oilpen](https://www.reddit.com/r/oilpen/) for some new smoking options.\"\n",
      " '50% off Trial: Lake Avenue Nutrition Bee propolis at iHerb'\n",
      " 'A local taco place has hard taco shells made of cheese crisps!']\n"
     ]
    }
   ],
   "source": [
    "#create col for predicton analysis\n",
    "pred_df['success'] = np.where(pred_df['preds_values'] == pred_df['true_values'],1,0)\n",
    "\n",
    "#missclassification on fp and fn\n",
    "miss_vegan = pred_df[(pred_df.success == 0) & (pred_df.preds_values == 'vegan')]\n",
    "miss_keto = pred_df[(pred_df.success == 0)  & (pred_df.preds_values == 'keto')]\n",
    "\n",
    "#sampling a few false positive text where classification predicted as vegan but it is a keto text\n",
    "\n",
    "print('\\033[1mFalse Positive Sample Text\\033[0;0m')\n",
    "print(pd.DataFrame(combined.loc[miss_vegan.index])['text'].sample(3).values)"
   ]
  },
  {
   "cell_type": "markdown",
   "metadata": {},
   "source": [
    "#### False Negative"
   ]
  },
  {
   "cell_type": "code",
   "execution_count": 57,
   "metadata": {},
   "outputs": [
    {
     "name": "stdout",
     "output_type": "stream",
     "text": [
      "\n",
      "\u001b[1mFalse Negative Sample Text\u001b[0;0m\n",
      "['The only difference is still your perception.'\n",
      " \"How do I get enough nutrients when only eating 1200-1400 calories a day?I have been slightly overweight for probably 6-7 years and I started counting calories and realised I was eating like 1800-2500 calories a day (as a 5'7 woman). I'm currently living a sedentary lifestyle so have been eating 1400 calories max the past 2 weeks and have already lost 4-5lbs! \\n\\nAbout 8 months ago I was getting dizzy so I started taking a multi-vitamin and have been fine since then. I tried to stop taking the multi-vitamin once and the dizziness came back so that further confirmed that I was lacking something even when I was eating a lot of calories. However, since I've been eating 1400 calories I am still taking my multi-vitamin, but now my dizziness is back. It specifically happens whenever I stand up. \\n\\nI'm using myfitnesspal and I'm not sure if it's 100% accurate, but according to it I seem to not be getting enough of several nutrients, particularly protein and iron. Seems as though I get around 25-40g of protein a day. I'm not really sure what to do as I feel like my diet is pretty healthy, so I don't know how to add more nutrients without adding more calories.\\n\\nTo give insight into how I usually eat:\\n\\nBreakfast - fruit and nut bar\\n\\nLunch - usually some variation of a salad. Ingredients I use often include avocado, falafel, chickpeas, beans, spinach, cucumber, etc. Sometimes I'll have a lentil and vegetable soup with bread instead.\\n\\nDinner - sometimes i'll have a bean and mince  chilli with avocado, sometimes cheesy pasta with spinach, sometimes tofu and chickpea curry, sometimes a lentil cottage pie w/ veg, etc.\\n\\nSnacks - I usually have 1-2 snacks a day including stuff like choc rice cakes, quinoa chips, pretzels w/ peanut butter, popcorn, yoghurt, etc.\\n\\nWhen I look up what vegan foods are high in protein or high in iron I see all the foods that I eat every day/week so I don't understand what to do. I eat 1400 calories as this is what is recommended to me, but could this recommendation only be good if it's a omni diet? Am I meant to eat more calories as a vegan? Will I still be able to lose weight if so?\\n\\nBtw - I've been vegan for 4 years and I've never noticed being consistently dizzy/tired until about a year ago before I started taking the multi-vitamin.\"\n",
      " \"How to go Vegan from OMAD/KETO?Hello, I've been on OMAD/KETO diet for quite a while, I've been trying to lose weight for many year, and it was the first diet I try that helps me lose actual weight. I lost 30kg on it.\\n\\nI'm convinced by the ethical/moral aspect/arguments of veganism, but to be honest, it was never enough for me to get into veganism. I'm considering it because I started to feel disgusted and repelled in some way by meat-based food, don't know how to put into words, it's just an abstract harmful feeling of disgust I get when I eat any meat - I feel like I'm biting raw meat of a living animal. Which makes me feel guilty every time I eat.\\n\\nI've seen some research papers discussed by many people that plant-based diets can help losing weight. What fears me is gaining too much weight due to the transition from Keto to high carb diet. Because as far as I know, once I leave Keto to high carb diets, I begin gaining weight dramatically, and that I know from experience.\\n\\nAny help or opinions would be greatly appreciated. Thanks.\"]\n"
     ]
    }
   ],
   "source": [
    "#sampling a few false negative text where classification predicted as keto but it is a vegan text\n",
    "\n",
    "print('\\n\\033[1mFalse Negative Sample Text\\033[0;0m')\n",
    "print(pd.DataFrame(combined.loc[miss_keto.index])['text'].sample(3).values)"
   ]
  },
  {
   "cell_type": "markdown",
   "metadata": {},
   "source": [
    "**False Positive and False Negative**\n",
    "Based on the above sampling text, this verifies our first observation during EDA, where the if the topic revolves around food, and recipes. This will be further investigated as we review the top words of each classification."
   ]
  },
  {
   "cell_type": "markdown",
   "metadata": {},
   "source": [
    "### Word Importance"
   ]
  },
  {
   "cell_type": "code",
   "execution_count": 62,
   "metadata": {},
   "outputs": [],
   "source": [
    "coef = best_lr_tvec.named_steps['lr'].coef_\n",
    "feature_names = best_lr_tvec.named_steps['tvec'].get_feature_names()\n",
    "word_importance = pd.Series(coef[0], feature_names).sort_values()"
   ]
  },
  {
   "cell_type": "code",
   "execution_count": 63,
   "metadata": {},
   "outputs": [
    {
     "data": {
      "text/plain": [
       "keto      -16.473526\n",
       "carb       -7.838483\n",
       "fat        -4.702584\n",
       "start      -4.506717\n",
       "weight     -4.384943\n",
       "ketosi     -4.115523\n",
       "lb         -3.866338\n",
       "week       -3.371019\n",
       "keton      -3.316135\n",
       "sugar      -3.134490\n",
       "pound      -3.057326\n",
       "cheat      -2.857955\n",
       "macro      -2.834098\n",
       "fast       -2.802767\n",
       "lose       -2.790723\n",
       "diet       -2.711791\n",
       "day        -2.707767\n",
       "nsv        -2.666816\n",
       "lost       -2.311189\n",
       "ketogen    -2.245241\n",
       "dtype: float64"
      ]
     },
     "execution_count": 63,
     "metadata": {},
     "output_type": "execute_result"
    }
   ],
   "source": [
    "#keto\n",
    "word_importance.head(20)"
   ]
  },
  {
   "cell_type": "code",
   "execution_count": 64,
   "metadata": {
    "scrolled": false
   },
   "outputs": [
    {
     "data": {
      "text/plain": [
       "yummi          1.542705\n",
       "made           1.546167\n",
       "go vegan       1.589102\n",
       "dog            1.603975\n",
       "ban            1.610531\n",
       "base           1.686444\n",
       "farm           1.690863\n",
       "ethic          1.695819\n",
       "dairi          1.717658\n",
       "plant base     1.942066\n",
       "seitan         1.989954\n",
       "human          2.053792\n",
       "pig            2.117318\n",
       "milk           2.333390\n",
       "cow            2.364828\n",
       "tofu           2.837498\n",
       "plant          3.056197\n",
       "meat           3.968269\n",
       "anim           5.845560\n",
       "vegan         14.353060\n",
       "dtype: float64"
      ]
     },
     "execution_count": 64,
     "metadata": {},
     "output_type": "execute_result"
    }
   ],
   "source": [
    "#vegan\n",
    "word_importance.tail(20)"
   ]
  },
  {
   "cell_type": "markdown",
   "metadata": {},
   "source": [
    "In coefficient with importance to **keto** is mainly itself (keto) and other relevant topics such as carb, weight, fat, nsv (Non Scale Victory), macro which are common terms relevant to keto diet journey. The reddit community have discussion on the new diet to try on with curiosity to find out more on how to succesfully complete the diet and lost weight fast."
   ]
  },
  {
   "cell_type": "markdown",
   "metadata": {},
   "source": [
    "Wheres for **vegan** subredditers,the keywords revolves around animal products, vegan diets, and discussion on the ethics of animal products consumption."
   ]
  },
  {
   "cell_type": "markdown",
   "metadata": {},
   "source": [
    "## Crossover Review and Evaluation"
   ]
  },
  {
   "cell_type": "markdown",
   "metadata": {},
   "source": [
    "In light of promoting vegan food products, we observed several commonalities in ingredients that can be tailored to keto dieters. To accomodate both diets, in essense it has to be animal-free, high fat, low carbohydrate, low sugar foods. \n",
    "\n",
    "This includes but not limited to the following: \n",
    "\n",
    "1. Seitan\n",
    "2. Tofu\n",
    "3. Curry\n",
    "4. Mushroom\n",
    "5. Tempe\n",
    "6. Soy\n",
    "7. Coffee\n",
    "8. Avocado\n",
    "\n",
    "No-Go Food for Keto:\n",
    "1. Oat\n",
    "2. Bread\n",
    "3. Chickpea\n",
    "4. Root based vegetables \n",
    "5. Dairy \n",
    "6. High sugar content food or drinks"
   ]
  },
  {
   "cell_type": "code",
   "execution_count": 65,
   "metadata": {
    "scrolled": false
   },
   "outputs": [
    {
     "data": {
      "text/plain": [
       "array(['Substitute for cornstarch in tofu recipes?',\n",
       "       \"Emergency grocery shopHey friends!\\n\\nI'm at my parents in the cornbelt for 2 weeks and struggle with a binge eating disorder. However, while in my own home I can control my surroundings with what I buy and bring into my home.\\n\\nMy parents on the other hand are obese couch potatos and have just accepted their fate. The cabinets have the whole snack aisle, and all the convenience of frozen or canned meals and soups. Not a vegetable in sight. Some rotten fruit in a bowl I assume were decoration.\\n\\nI want to be smart about the 2 weeks and not wasteful. I'm also fighting the urge to binge every moment around here. Just trying to stay out of the kitchen if I'm being honest.\\n\\nCan y'all do me a favor and drop a quick list you would turn to in a similar situation away from home. Keto only. I can't even think straight and worry I'll walk out of the shops with 8 lbs of celery and a single slab of steak. \\n\\nWith that said - I also don't really like meat.......... I'm not vegetarian, I just can't stand the smell of meat cooking, nor really do I like the taste unless it's pretty much coated in spices. I love tofu! L\\n\\nHELPPPP I plan to run to the store as soon as I log off work at 5.\\n\\nThe shops I have are Wal*Mart, Aldi, and Jewel*Osco!\",\n",
       "       'indigestion on keto?Hey all, \\n\\nI\\'ve been keto for about 2 weeks now and I\\'m experiencing a lot of indigestion, something I never experienced before. It\\'s sort of an acidic feeling in my stomach, and like I need to burp. \\n\\nI track my macros and calories, IF, and eat a very clean keto diet - lots of fresh salads and veggies, eggs, cheese, tofu, wild caught fish, grass fed beef only once a week, MCT oil, and I take electrolyte powder everyday. No \"keto\" foods that you can buy that are heavily processed. Mind you I do enjoy scotch on the weekends, but have reduced it heavily. \\n\\nI know that normally keto helps indigestion, but any tips for someone in the opposite case? Is it something my stomach will soon adjust to? Any foods to try removing/adding? \\n\\nThanks for your help in advance.'],\n",
       "      dtype=object)"
      ]
     },
     "execution_count": 65,
     "metadata": {},
     "output_type": "execute_result"
    }
   ],
   "source": [
    "#checking overlap of ingredient list\n",
    "mask = combined.text.str.lower().str.contains('tofu') & (combined.subreddit=='keto')\n",
    "combined[mask].text.sample(3).values"
   ]
  },
  {
   "cell_type": "markdown",
   "metadata": {},
   "source": [
    "In detail review on some of the text where top ingredient list (from the top word importance) that may overlap in keto-reddit above, we see the possibility that the ingredients from vegan diet can also be tailored to keto consumers. \n",
    "\n",
    "Vegan products that we could target are as shown on the list above. Nonetheless, the ingredient top keywords still require filtering and strong domain knowledge of keto diet preferences. The current model is not entirely ready-for-use for this problem statement."
   ]
  },
  {
   "cell_type": "markdown",
   "metadata": {},
   "source": [
    "## Conclusion & Recommendation"
   ]
  },
  {
   "cell_type": "markdown",
   "metadata": {},
   "source": [
    "During the EDA, we found upward trend on popularity in keto subscribers which aligns with the increasing text query for help and advise. Most text are lengthy mainly due to explanation of their situation and seeking for recipes and information on how to decide what is within their diet constrain. Vegan and keto diets share several common grounds on the ingredients that is fit to be consumed. Examples are tofu, mushrooms, and tempe. This list will be insights to the R&D and marketing team on what is sought for from both dietary.\n",
    "\n",
    "Using NLTK, TfidfVectoriser and logistic regression model, we are able to identify the top important words in the conversation among the community and dive deep into the list of ingredients that is being discussed. This shines light to what is the common acceptable ingredients used and the rest would be up to the marketing team to identify its feasiblity of production.\n",
    "\n",
    "Despite the success in classification, this model still requires manual nitpick to identify food/ingredients related text prior to deployment. It would be a great addition to have NLP API that identifies food terminology, for instance `food` sysnet via WordNet (see code block below). Unfortunately, this list is not extensive and does not represent the ALL possible food list. \n",
    "\n",
    "    from nltk.corpus import wordnet as wn\n",
    "    food = wn.synset('food.n.02')\n",
    "    list(set([w for s in food.closure(lambda s:s.hyponyms()) for w in s.lemma_names()]))\n",
    "    \n",
    "[(code source link)](https://stackoverflow.com/questions/19626737/where-can-i-find-a-text-list-or-library-that-contains-a-list-of-common-foods)\n",
    "\n",
    "With the overall model performance succesfully classifying with 95% accuracy and only 5% misclassification, this model can be translated and modified for use on other dietary groups as well. It is also shown that the misclassification is justified as there were sample text where the keywords of opposing categories has caused the false positive and false negative. Nonetheless, this does not affect our findings as our goal is to identify the ingredients list.\n",
    "\n",
    "In the exploratory data analysis, we also find that dieters struggle with overwhelming information on what can or cannot be consumed. As solution provider, we want to make it fool-proof and easy for consumers to make decision. Knowing the keywords that dieters terminology, would make it easy for naming and packaging of products as well, killing two birds with one stone*. \n",
    "\n",
    "*No animals were harmed in the making of this pun."
   ]
  }
 ],
 "metadata": {
  "kernelspec": {
   "display_name": "Python 3",
   "language": "python",
   "name": "python3"
  },
  "language_info": {
   "codemirror_mode": {
    "name": "ipython",
    "version": 3
   },
   "file_extension": ".py",
   "mimetype": "text/x-python",
   "name": "python",
   "nbconvert_exporter": "python",
   "pygments_lexer": "ipython3",
   "version": "3.8.5"
  }
 },
 "nbformat": 4,
 "nbformat_minor": 4
}
